{
 "cells": [
  {
   "cell_type": "markdown",
   "metadata": {},
   "source": [
    "**Import Libraries**"
   ]
  },
  {
   "cell_type": "markdown",
   "metadata": {},
   "source": [
    "This sheet contains code used in analysis, extract, feature selection and transform X-Ray image set in preperation for training and validation. The Chexpert data set contains X-Ray images for 14 different classes. We are going to build an image classifier to predict presence of Pnuemonia in a given X-Ray image.\n",
    "\n",
    "In this sheet we will filter out the two 'Pneumonia' and 'No findings' class images and prepare our data using MXNest's im2rec script which allows us package our image dataset for later stor in our S3 bucket and access for training on our SageMaker instance. To use im2rec we will need to clone the MXNet repository:\n",
    "\n",
    "#git clone https://github.com/apache/incubator-mxnet.git\n",
    "\n",
    "OpenCV is a requirement for im2rec so we will need to install it.\n",
    "\n",
    "pip install opencv-python mxnet\n",
    "\n",
    "conda create -n mxnet_env mxnet opencv python=3\n",
    "!conda activate mxnet_env"
   ]
  },
  {
   "cell_type": "markdown",
   "metadata": {},
   "source": [
    "OpenCV and MXNET library is a requirement for im2rec so we will need to install it."
   ]
  },
  {
   "cell_type": "code",
   "execution_count": 146,
   "metadata": {},
   "outputs": [
    {
     "name": "stdout",
     "output_type": "stream",
     "text": [
      "Collecting sagemaker\n",
      "  Downloading sagemaker-2.24.3.tar.gz (396 kB)\n",
      "Requirement already satisfied: attrs in c:\\programdata\\anaconda3\\lib\\site-packages (from sagemaker) (20.3.0)\n",
      "Collecting boto3>=1.16.32\n",
      "  Downloading boto3-1.17.3-py2.py3-none-any.whl (130 kB)\n",
      "Collecting google-pasta\n",
      "  Downloading google_pasta-0.2.0-py3-none-any.whl (57 kB)\n",
      "Requirement already satisfied: numpy>=1.9.0 in c:\\programdata\\anaconda3\\lib\\site-packages (from sagemaker) (1.19.2)\n",
      "Collecting protobuf>=3.1\n",
      "  Downloading protobuf-3.14.0-py2.py3-none-any.whl (173 kB)\n",
      "Collecting protobuf3-to-dict>=0.1.5\n",
      "  Downloading protobuf3-to-dict-0.1.5.tar.gz (3.5 kB)\n",
      "Collecting smdebug_rulesconfig==1.0.1\n",
      "  Downloading smdebug_rulesconfig-1.0.1-py2.py3-none-any.whl (20 kB)\n",
      "Requirement already satisfied: importlib-metadata>=1.4.0 in c:\\programdata\\anaconda3\\lib\\site-packages (from sagemaker) (2.0.0)\n",
      "Requirement already satisfied: packaging>=20.0 in c:\\programdata\\anaconda3\\lib\\site-packages (from sagemaker) (20.4)\n",
      "Collecting jmespath<1.0.0,>=0.7.1\n",
      "  Downloading jmespath-0.10.0-py2.py3-none-any.whl (24 kB)\n",
      "Collecting botocore<1.21.0,>=1.20.3\n",
      "  Downloading botocore-1.20.3-py2.py3-none-any.whl (7.2 MB)\n",
      "Collecting s3transfer<0.4.0,>=0.3.0\n",
      "  Downloading s3transfer-0.3.4-py2.py3-none-any.whl (69 kB)\n",
      "Requirement already satisfied: six in c:\\programdata\\anaconda3\\lib\\site-packages (from google-pasta->sagemaker) (1.15.0)\n",
      "Requirement already satisfied: zipp>=0.5 in c:\\programdata\\anaconda3\\lib\\site-packages (from importlib-metadata>=1.4.0->sagemaker) (3.4.0)\n",
      "Requirement already satisfied: pyparsing>=2.0.2 in c:\\programdata\\anaconda3\\lib\\site-packages (from packaging>=20.0->sagemaker) (2.4.7)\n",
      "Requirement already satisfied: urllib3<1.27,>=1.25.4 in c:\\programdata\\anaconda3\\lib\\site-packages (from botocore<1.21.0,>=1.20.3->boto3>=1.16.32->sagemaker) (1.25.11)\n",
      "Requirement already satisfied: python-dateutil<3.0.0,>=2.1 in c:\\programdata\\anaconda3\\lib\\site-packages (from botocore<1.21.0,>=1.20.3->boto3>=1.16.32->sagemaker) (2.8.1)\n",
      "Building wheels for collected packages: sagemaker, protobuf3-to-dict\n",
      "  Building wheel for sagemaker (setup.py): started\n",
      "  Building wheel for sagemaker (setup.py): finished with status 'done'\n",
      "  Created wheel for sagemaker: filename=sagemaker-2.24.3-py2.py3-none-any.whl size=560564 sha256=e26f7f50c6ff09c091ab59cc30732d7a37436d9c582cba8da784ca889331b3f5\n",
      "  Stored in directory: c:\\users\\hatem\\appdata\\local\\pip\\cache\\wheels\\df\\6d\\ae\\530dafd51e74a4160a637727925f0a352c3853f1bc61b0a5f2\n",
      "  Building wheel for protobuf3-to-dict (setup.py): started\n",
      "  Building wheel for protobuf3-to-dict (setup.py): finished with status 'done'\n",
      "  Created wheel for protobuf3-to-dict: filename=protobuf3_to_dict-0.1.5-py3-none-any.whl size=4033 sha256=3449f7d40fceb76c3281da9d07c5470f3fd1f96c14afb7b4dc877eb55e1d841b\n",
      "  Stored in directory: c:\\users\\hatem\\appdata\\local\\pip\\cache\\wheels\\fc\\10\\27\\2d1e23d8b9a9013a83fbb418a0b17b1e6f81c8db8f53b53934\n",
      "Successfully built sagemaker protobuf3-to-dict\n",
      "Installing collected packages: jmespath, botocore, s3transfer, boto3, google-pasta, protobuf, protobuf3-to-dict, smdebug-rulesconfig, sagemaker\n",
      "Successfully installed boto3-1.17.3 botocore-1.20.3 google-pasta-0.2.0 jmespath-0.10.0 protobuf-3.14.0 protobuf3-to-dict-0.1.5 s3transfer-0.3.4 sagemaker-2.24.3 smdebug-rulesconfig-1.0.1\n"
     ]
    }
   ],
   "source": [
    "!pip install sagemaker"
   ]
  },
  {
   "cell_type": "markdown",
   "metadata": {},
   "source": [
    "!pip install opencv-python mxnet"
   ]
  },
  {
   "cell_type": "code",
   "execution_count": 124,
   "metadata": {},
   "outputs": [],
   "source": [
    "#location of im2rec.py script\n",
    "tools_path = \"C:\\\\users\\\\hatem\\\\Documents\\\\git\\\\incubator-mxnet\\\\tools\""
   ]
  },
  {
   "cell_type": "code",
   "execution_count": null,
   "metadata": {},
   "outputs": [],
   "source": []
  },
  {
   "cell_type": "code",
   "execution_count": 133,
   "metadata": {},
   "outputs": [],
   "source": []
  },
  {
   "cell_type": "code",
   "execution_count": 66,
   "metadata": {},
   "outputs": [],
   "source": [
    "import pandas as pd\n",
    "import numpy as np\n",
    "import os\n",
    "import matplotlib.pyplot as plt\n",
    "import seaborn as sns\n",
    "from IPython.display import Image, display\n",
    "pd.set_option('display.max_colwidth', 100)"
   ]
  },
  {
   "cell_type": "markdown",
   "metadata": {},
   "source": [
    "**Read training image meta data into Pandas Dataframe**"
   ]
  },
  {
   "cell_type": "code",
   "execution_count": 67,
   "metadata": {},
   "outputs": [],
   "source": [
    "data_path = \"C:\\\\Users\\\\hatem\\\\data\\CheXpert-v1.0-small\\\\CheXpert-v1.0-small\"\n",
    "meta_filename = \"train.csv\"\n",
    "data = pd.read_csv(os.path.join(data_path, meta_filename))"
   ]
  },
  {
   "cell_type": "code",
   "execution_count": 68,
   "metadata": {},
   "outputs": [
    {
     "name": "stdout",
     "output_type": "stream",
     "text": [
      "Training data shape: (223414, 19)\n"
     ]
    }
   ],
   "source": [
    "print(\"Training data shape: \" + str(data.shape))"
   ]
  },
  {
   "cell_type": "code",
   "execution_count": 69,
   "metadata": {},
   "outputs": [
    {
     "name": "stdout",
     "output_type": "stream",
     "text": [
      "<class 'pandas.core.frame.DataFrame'>\n",
      "RangeIndex: 223414 entries, 0 to 223413\n",
      "Data columns (total 19 columns):\n",
      " #   Column                      Non-Null Count   Dtype  \n",
      "---  ------                      --------------   -----  \n",
      " 0   Path                        223414 non-null  object \n",
      " 1   Sex                         223414 non-null  object \n",
      " 2   Age                         223414 non-null  int64  \n",
      " 3   Frontal/Lateral             223414 non-null  object \n",
      " 4   AP/PA                       191027 non-null  object \n",
      " 5   No Finding                  22381 non-null   float64\n",
      " 6   Enlarged Cardiomediastinum  44839 non-null   float64\n",
      " 7   Cardiomegaly                46203 non-null   float64\n",
      " 8   Lung Opacity                117778 non-null  float64\n",
      " 9   Lung Lesion                 11944 non-null   float64\n",
      " 10  Edema                       85956 non-null   float64\n",
      " 11  Consolidation               70622 non-null   float64\n",
      " 12  Pneumonia                   27608 non-null   float64\n",
      " 13  Atelectasis                 68443 non-null   float64\n",
      " 14  Pneumothorax                78934 non-null   float64\n",
      " 15  Pleural Effusion            133211 non-null  float64\n",
      " 16  Pleural Other               6492 non-null    float64\n",
      " 17  Fracture                    12194 non-null   float64\n",
      " 18  Support Devices             123217 non-null  float64\n",
      "dtypes: float64(14), int64(1), object(4)\n",
      "memory usage: 32.4+ MB\n"
     ]
    }
   ],
   "source": [
    "data.info()"
   ]
  },
  {
   "cell_type": "code",
   "execution_count": 70,
   "metadata": {},
   "outputs": [
    {
     "data": {
      "text/html": [
       "<div>\n",
       "<style scoped>\n",
       "    .dataframe tbody tr th:only-of-type {\n",
       "        vertical-align: middle;\n",
       "    }\n",
       "\n",
       "    .dataframe tbody tr th {\n",
       "        vertical-align: top;\n",
       "    }\n",
       "\n",
       "    .dataframe thead th {\n",
       "        text-align: right;\n",
       "    }\n",
       "</style>\n",
       "<table border=\"1\" class=\"dataframe\">\n",
       "  <thead>\n",
       "    <tr style=\"text-align: right;\">\n",
       "      <th></th>\n",
       "      <th>Path</th>\n",
       "      <th>Sex</th>\n",
       "      <th>Age</th>\n",
       "      <th>Frontal/Lateral</th>\n",
       "      <th>AP/PA</th>\n",
       "      <th>No Finding</th>\n",
       "      <th>Enlarged Cardiomediastinum</th>\n",
       "      <th>Cardiomegaly</th>\n",
       "      <th>Lung Opacity</th>\n",
       "      <th>Lung Lesion</th>\n",
       "      <th>Edema</th>\n",
       "      <th>Consolidation</th>\n",
       "      <th>Pneumonia</th>\n",
       "      <th>Atelectasis</th>\n",
       "      <th>Pneumothorax</th>\n",
       "      <th>Pleural Effusion</th>\n",
       "      <th>Pleural Other</th>\n",
       "      <th>Fracture</th>\n",
       "      <th>Support Devices</th>\n",
       "    </tr>\n",
       "  </thead>\n",
       "  <tbody>\n",
       "    <tr>\n",
       "      <th>0</th>\n",
       "      <td>CheXpert-v1.0-small/train/patient00001/study1/view1_frontal.jpg</td>\n",
       "      <td>Female</td>\n",
       "      <td>68</td>\n",
       "      <td>Frontal</td>\n",
       "      <td>AP</td>\n",
       "      <td>1.0</td>\n",
       "      <td>NaN</td>\n",
       "      <td>NaN</td>\n",
       "      <td>NaN</td>\n",
       "      <td>NaN</td>\n",
       "      <td>NaN</td>\n",
       "      <td>NaN</td>\n",
       "      <td>NaN</td>\n",
       "      <td>NaN</td>\n",
       "      <td>0.0</td>\n",
       "      <td>NaN</td>\n",
       "      <td>NaN</td>\n",
       "      <td>NaN</td>\n",
       "      <td>1.0</td>\n",
       "    </tr>\n",
       "    <tr>\n",
       "      <th>1</th>\n",
       "      <td>CheXpert-v1.0-small/train/patient00002/study2/view1_frontal.jpg</td>\n",
       "      <td>Female</td>\n",
       "      <td>87</td>\n",
       "      <td>Frontal</td>\n",
       "      <td>AP</td>\n",
       "      <td>NaN</td>\n",
       "      <td>NaN</td>\n",
       "      <td>-1.0</td>\n",
       "      <td>1.0</td>\n",
       "      <td>NaN</td>\n",
       "      <td>-1.0</td>\n",
       "      <td>-1.0</td>\n",
       "      <td>NaN</td>\n",
       "      <td>-1.0</td>\n",
       "      <td>NaN</td>\n",
       "      <td>-1.0</td>\n",
       "      <td>NaN</td>\n",
       "      <td>1.0</td>\n",
       "      <td>NaN</td>\n",
       "    </tr>\n",
       "    <tr>\n",
       "      <th>2</th>\n",
       "      <td>CheXpert-v1.0-small/train/patient00002/study1/view1_frontal.jpg</td>\n",
       "      <td>Female</td>\n",
       "      <td>83</td>\n",
       "      <td>Frontal</td>\n",
       "      <td>AP</td>\n",
       "      <td>NaN</td>\n",
       "      <td>NaN</td>\n",
       "      <td>NaN</td>\n",
       "      <td>1.0</td>\n",
       "      <td>NaN</td>\n",
       "      <td>NaN</td>\n",
       "      <td>-1.0</td>\n",
       "      <td>NaN</td>\n",
       "      <td>NaN</td>\n",
       "      <td>NaN</td>\n",
       "      <td>NaN</td>\n",
       "      <td>NaN</td>\n",
       "      <td>1.0</td>\n",
       "      <td>NaN</td>\n",
       "    </tr>\n",
       "    <tr>\n",
       "      <th>3</th>\n",
       "      <td>CheXpert-v1.0-small/train/patient00002/study1/view2_lateral.jpg</td>\n",
       "      <td>Female</td>\n",
       "      <td>83</td>\n",
       "      <td>Lateral</td>\n",
       "      <td>NaN</td>\n",
       "      <td>NaN</td>\n",
       "      <td>NaN</td>\n",
       "      <td>NaN</td>\n",
       "      <td>1.0</td>\n",
       "      <td>NaN</td>\n",
       "      <td>NaN</td>\n",
       "      <td>-1.0</td>\n",
       "      <td>NaN</td>\n",
       "      <td>NaN</td>\n",
       "      <td>NaN</td>\n",
       "      <td>NaN</td>\n",
       "      <td>NaN</td>\n",
       "      <td>1.0</td>\n",
       "      <td>NaN</td>\n",
       "    </tr>\n",
       "    <tr>\n",
       "      <th>4</th>\n",
       "      <td>CheXpert-v1.0-small/train/patient00003/study1/view1_frontal.jpg</td>\n",
       "      <td>Male</td>\n",
       "      <td>41</td>\n",
       "      <td>Frontal</td>\n",
       "      <td>AP</td>\n",
       "      <td>NaN</td>\n",
       "      <td>NaN</td>\n",
       "      <td>NaN</td>\n",
       "      <td>NaN</td>\n",
       "      <td>NaN</td>\n",
       "      <td>1.0</td>\n",
       "      <td>NaN</td>\n",
       "      <td>NaN</td>\n",
       "      <td>NaN</td>\n",
       "      <td>0.0</td>\n",
       "      <td>NaN</td>\n",
       "      <td>NaN</td>\n",
       "      <td>NaN</td>\n",
       "      <td>NaN</td>\n",
       "    </tr>\n",
       "  </tbody>\n",
       "</table>\n",
       "</div>"
      ],
      "text/plain": [
       "                                                              Path     Sex  \\\n",
       "0  CheXpert-v1.0-small/train/patient00001/study1/view1_frontal.jpg  Female   \n",
       "1  CheXpert-v1.0-small/train/patient00002/study2/view1_frontal.jpg  Female   \n",
       "2  CheXpert-v1.0-small/train/patient00002/study1/view1_frontal.jpg  Female   \n",
       "3  CheXpert-v1.0-small/train/patient00002/study1/view2_lateral.jpg  Female   \n",
       "4  CheXpert-v1.0-small/train/patient00003/study1/view1_frontal.jpg    Male   \n",
       "\n",
       "   Age Frontal/Lateral AP/PA  No Finding  Enlarged Cardiomediastinum  \\\n",
       "0   68         Frontal    AP         1.0                         NaN   \n",
       "1   87         Frontal    AP         NaN                         NaN   \n",
       "2   83         Frontal    AP         NaN                         NaN   \n",
       "3   83         Lateral   NaN         NaN                         NaN   \n",
       "4   41         Frontal    AP         NaN                         NaN   \n",
       "\n",
       "   Cardiomegaly  Lung Opacity  Lung Lesion  Edema  Consolidation  Pneumonia  \\\n",
       "0           NaN           NaN          NaN    NaN            NaN        NaN   \n",
       "1          -1.0           1.0          NaN   -1.0           -1.0        NaN   \n",
       "2           NaN           1.0          NaN    NaN           -1.0        NaN   \n",
       "3           NaN           1.0          NaN    NaN           -1.0        NaN   \n",
       "4           NaN           NaN          NaN    1.0            NaN        NaN   \n",
       "\n",
       "   Atelectasis  Pneumothorax  Pleural Effusion  Pleural Other  Fracture  \\\n",
       "0          NaN           0.0               NaN            NaN       NaN   \n",
       "1         -1.0           NaN              -1.0            NaN       1.0   \n",
       "2          NaN           NaN               NaN            NaN       1.0   \n",
       "3          NaN           NaN               NaN            NaN       1.0   \n",
       "4          NaN           0.0               NaN            NaN       NaN   \n",
       "\n",
       "   Support Devices  \n",
       "0              1.0  \n",
       "1              NaN  \n",
       "2              NaN  \n",
       "3              NaN  \n",
       "4              NaN  "
      ]
     },
     "execution_count": 70,
     "metadata": {},
     "output_type": "execute_result"
    }
   ],
   "source": [
    "data.head()"
   ]
  },
  {
   "cell_type": "code",
   "execution_count": 23,
   "metadata": {},
   "outputs": [],
   "source": [
    "data.rename(columns={'Frontal/Lateral': 'Frontal_Lateral', 'AP/PA': 'AP_PA'}, inplace=True)"
   ]
  },
  {
   "cell_type": "markdown",
   "metadata": {},
   "source": [
    "__Extract patient id, study number, and filename for future use__"
   ]
  },
  {
   "cell_type": "code",
   "execution_count": 26,
   "metadata": {},
   "outputs": [],
   "source": [
    "data_path = pd.DataFrame.from_records(data.Path.apply(lambda r: r.split('/')), columns=['set_name', 'set_type', 'patient_id', 'study_no', 'file_name'])"
   ]
  },
  {
   "cell_type": "code",
   "execution_count": 27,
   "metadata": {},
   "outputs": [
    {
     "name": "stdout",
     "output_type": "stream",
     "text": [
      "<class 'pandas.core.frame.DataFrame'>\n",
      "RangeIndex: 223414 entries, 0 to 223413\n",
      "Data columns (total 5 columns):\n",
      " #   Column      Non-Null Count   Dtype \n",
      "---  ------      --------------   ----- \n",
      " 0   set_name    223414 non-null  object\n",
      " 1   set_type    223414 non-null  object\n",
      " 2   patient_id  223414 non-null  object\n",
      " 3   study_no    223414 non-null  object\n",
      " 4   file_name   223414 non-null  object\n",
      "dtypes: object(5)\n",
      "memory usage: 8.5+ MB\n"
     ]
    }
   ],
   "source": [
    "data_path.info()"
   ]
  },
  {
   "cell_type": "markdown",
   "metadata": {},
   "source": [
    "**Merge original metadate frames with new columns with data extracted from file path**"
   ]
  },
  {
   "cell_type": "code",
   "execution_count": 28,
   "metadata": {},
   "outputs": [],
   "source": [
    "data = pd.merge(data, data_path, left_index=True, right_index=True)"
   ]
  },
  {
   "cell_type": "code",
   "execution_count": 29,
   "metadata": {},
   "outputs": [
    {
     "name": "stdout",
     "output_type": "stream",
     "text": [
      "<class 'pandas.core.frame.DataFrame'>\n",
      "RangeIndex: 223414 entries, 0 to 223413\n",
      "Data columns (total 24 columns):\n",
      " #   Column                      Non-Null Count   Dtype  \n",
      "---  ------                      --------------   -----  \n",
      " 0   Path                        223414 non-null  object \n",
      " 1   Sex                         223414 non-null  object \n",
      " 2   Age                         223414 non-null  int64  \n",
      " 3   Frontal_Lateral             223414 non-null  object \n",
      " 4   AP_PA                       191027 non-null  object \n",
      " 5   No Finding                  22381 non-null   float64\n",
      " 6   Enlarged Cardiomediastinum  44839 non-null   float64\n",
      " 7   Cardiomegaly                46203 non-null   float64\n",
      " 8   Lung Opacity                117778 non-null  float64\n",
      " 9   Lung Lesion                 11944 non-null   float64\n",
      " 10  Edema                       85956 non-null   float64\n",
      " 11  Consolidation               70622 non-null   float64\n",
      " 12  Pneumonia                   27608 non-null   float64\n",
      " 13  Atelectasis                 68443 non-null   float64\n",
      " 14  Pneumothorax                78934 non-null   float64\n",
      " 15  Pleural Effusion            133211 non-null  float64\n",
      " 16  Pleural Other               6492 non-null    float64\n",
      " 17  Fracture                    12194 non-null   float64\n",
      " 18  Support Devices             123217 non-null  float64\n",
      " 19  set_name                    223414 non-null  object \n",
      " 20  set_type                    223414 non-null  object \n",
      " 21  patient_id                  223414 non-null  object \n",
      " 22  study_no                    223414 non-null  object \n",
      " 23  file_name                   223414 non-null  object \n",
      "dtypes: float64(14), int64(1), object(9)\n",
      "memory usage: 40.9+ MB\n"
     ]
    }
   ],
   "source": [
    "data.info()"
   ]
  },
  {
   "cell_type": "markdown",
   "metadata": {},
   "source": [
    "**Compute and Display Counts of Different Classes in X-Ray Training Images**"
   ]
  },
  {
   "cell_type": "code",
   "execution_count": 30,
   "metadata": {
    "scrolled": true
   },
   "outputs": [
    {
     "data": {
      "text/html": [
       "<div>\n",
       "<style scoped>\n",
       "    .dataframe tbody tr th:only-of-type {\n",
       "        vertical-align: middle;\n",
       "    }\n",
       "\n",
       "    .dataframe tbody tr th {\n",
       "        vertical-align: top;\n",
       "    }\n",
       "\n",
       "    .dataframe thead th {\n",
       "        text-align: right;\n",
       "    }\n",
       "</style>\n",
       "<table border=\"1\" class=\"dataframe\">\n",
       "  <thead>\n",
       "    <tr style=\"text-align: right;\">\n",
       "      <th></th>\n",
       "      <th>No Finding</th>\n",
       "      <th>Enlarged Cardiomediastinum</th>\n",
       "      <th>Cardiomegaly</th>\n",
       "      <th>Lung Opacity</th>\n",
       "      <th>Lung Lesion</th>\n",
       "      <th>Edema</th>\n",
       "      <th>Consolidation</th>\n",
       "      <th>Pneumonia</th>\n",
       "      <th>Atelectasis</th>\n",
       "      <th>Pneumothorax</th>\n",
       "      <th>Pleural Effusion</th>\n",
       "      <th>Pleural Other</th>\n",
       "      <th>Fracture</th>\n",
       "    </tr>\n",
       "  </thead>\n",
       "  <tbody>\n",
       "    <tr>\n",
       "      <th>-1.0</th>\n",
       "      <td>NaN</td>\n",
       "      <td>12403.0</td>\n",
       "      <td>8087.0</td>\n",
       "      <td>5598.0</td>\n",
       "      <td>1488.0</td>\n",
       "      <td>12984.0</td>\n",
       "      <td>27742.0</td>\n",
       "      <td>18770.0</td>\n",
       "      <td>33739.0</td>\n",
       "      <td>3145.0</td>\n",
       "      <td>11628.0</td>\n",
       "      <td>2653.0</td>\n",
       "      <td>642.0</td>\n",
       "    </tr>\n",
       "    <tr>\n",
       "      <th>0</th>\n",
       "      <td>NaN</td>\n",
       "      <td>21638.0</td>\n",
       "      <td>11116.0</td>\n",
       "      <td>6599.0</td>\n",
       "      <td>1270.0</td>\n",
       "      <td>20726.0</td>\n",
       "      <td>28097.0</td>\n",
       "      <td>2799.0</td>\n",
       "      <td>1328.0</td>\n",
       "      <td>56341.0</td>\n",
       "      <td>35396.0</td>\n",
       "      <td>316.0</td>\n",
       "      <td>2512.0</td>\n",
       "    </tr>\n",
       "    <tr>\n",
       "      <th>1.0</th>\n",
       "      <td>22381.0</td>\n",
       "      <td>10798.0</td>\n",
       "      <td>27000.0</td>\n",
       "      <td>105581.0</td>\n",
       "      <td>9186.0</td>\n",
       "      <td>52246.0</td>\n",
       "      <td>14783.0</td>\n",
       "      <td>6039.0</td>\n",
       "      <td>33376.0</td>\n",
       "      <td>19448.0</td>\n",
       "      <td>86187.0</td>\n",
       "      <td>3523.0</td>\n",
       "      <td>9040.0</td>\n",
       "    </tr>\n",
       "  </tbody>\n",
       "</table>\n",
       "</div>"
      ],
      "text/plain": [
       "      No Finding  Enlarged Cardiomediastinum  Cardiomegaly  Lung Opacity  \\\n",
       "-1.0         NaN                     12403.0        8087.0        5598.0   \n",
       "0            NaN                     21638.0       11116.0        6599.0   \n",
       "1.0      22381.0                     10798.0       27000.0      105581.0   \n",
       "\n",
       "      Lung Lesion    Edema  Consolidation  Pneumonia  Atelectasis  \\\n",
       "-1.0       1488.0  12984.0        27742.0    18770.0      33739.0   \n",
       "0          1270.0  20726.0        28097.0     2799.0       1328.0   \n",
       "1.0        9186.0  52246.0        14783.0     6039.0      33376.0   \n",
       "\n",
       "      Pneumothorax  Pleural Effusion  Pleural Other  Fracture  \n",
       "-1.0        3145.0           11628.0         2653.0     642.0  \n",
       "0          56341.0           35396.0          316.0    2512.0  \n",
       "1.0        19448.0           86187.0         3523.0    9040.0  "
      ]
     },
     "execution_count": 30,
     "metadata": {},
     "output_type": "execute_result"
    }
   ],
   "source": [
    "data.apply(pd.Series.value_counts).iloc[0:3,5:18]"
   ]
  },
  {
   "cell_type": "markdown",
   "metadata": {},
   "source": [
    "**Compute and Display Counts of Different Classes in X-Ray Test Images**"
   ]
  },
  {
   "cell_type": "markdown",
   "metadata": {},
   "source": [
    "**Drop unused class labels**"
   ]
  },
  {
   "cell_type": "markdown",
   "metadata": {},
   "source": [
    "**Remove lateral X-Ray images which are insignificant and spare**"
   ]
  },
  {
   "cell_type": "code",
   "execution_count": 31,
   "metadata": {},
   "outputs": [
    {
     "data": {
      "text/html": [
       "<div>\n",
       "<style scoped>\n",
       "    .dataframe tbody tr th:only-of-type {\n",
       "        vertical-align: middle;\n",
       "    }\n",
       "\n",
       "    .dataframe tbody tr th {\n",
       "        vertical-align: top;\n",
       "    }\n",
       "\n",
       "    .dataframe thead th {\n",
       "        text-align: right;\n",
       "    }\n",
       "</style>\n",
       "<table border=\"1\" class=\"dataframe\">\n",
       "  <thead>\n",
       "    <tr style=\"text-align: right;\">\n",
       "      <th></th>\n",
       "      <th>Age</th>\n",
       "      <th>Enlarged Cardiomediastinum</th>\n",
       "      <th>Cardiomegaly</th>\n",
       "      <th>Lung Opacity</th>\n",
       "      <th>Lung Lesion</th>\n",
       "      <th>Edema</th>\n",
       "      <th>Consolidation</th>\n",
       "      <th>Pneumonia</th>\n",
       "      <th>Atelectasis</th>\n",
       "      <th>Pneumothorax</th>\n",
       "      <th>Pleural Effusion</th>\n",
       "      <th>Pleural Other</th>\n",
       "      <th>Fracture</th>\n",
       "      <th>Support Devices</th>\n",
       "    </tr>\n",
       "    <tr>\n",
       "      <th>No Finding</th>\n",
       "      <th></th>\n",
       "      <th></th>\n",
       "      <th></th>\n",
       "      <th></th>\n",
       "      <th></th>\n",
       "      <th></th>\n",
       "      <th></th>\n",
       "      <th></th>\n",
       "      <th></th>\n",
       "      <th></th>\n",
       "      <th></th>\n",
       "      <th></th>\n",
       "      <th></th>\n",
       "      <th></th>\n",
       "    </tr>\n",
       "  </thead>\n",
       "  <tbody>\n",
       "    <tr>\n",
       "      <th>1.0</th>\n",
       "      <td>1139827</td>\n",
       "      <td>0.0</td>\n",
       "      <td>0.0</td>\n",
       "      <td>0.0</td>\n",
       "      <td>0.0</td>\n",
       "      <td>0.0</td>\n",
       "      <td>0.0</td>\n",
       "      <td>0.0</td>\n",
       "      <td>0.0</td>\n",
       "      <td>0.0</td>\n",
       "      <td>0.0</td>\n",
       "      <td>0.0</td>\n",
       "      <td>0.0</td>\n",
       "      <td>8698.0</td>\n",
       "    </tr>\n",
       "  </tbody>\n",
       "</table>\n",
       "</div>"
      ],
      "text/plain": [
       "                Age  Enlarged Cardiomediastinum  Cardiomegaly  Lung Opacity  \\\n",
       "No Finding                                                                    \n",
       "1.0         1139827                         0.0           0.0           0.0   \n",
       "\n",
       "            Lung Lesion  Edema  Consolidation  Pneumonia  Atelectasis  \\\n",
       "No Finding                                                              \n",
       "1.0                 0.0    0.0            0.0        0.0          0.0   \n",
       "\n",
       "            Pneumothorax  Pleural Effusion  Pleural Other  Fracture  \\\n",
       "No Finding                                                            \n",
       "1.0                  0.0               0.0            0.0       0.0   \n",
       "\n",
       "            Support Devices  \n",
       "No Finding                   \n",
       "1.0                  8698.0  "
      ]
     },
     "execution_count": 31,
     "metadata": {},
     "output_type": "execute_result"
    }
   ],
   "source": [
    "data.groupby(['No Finding']).sum()"
   ]
  },
  {
   "cell_type": "code",
   "execution_count": 32,
   "metadata": {},
   "outputs": [
    {
     "data": {
      "text/html": [
       "<div>\n",
       "<style scoped>\n",
       "    .dataframe tbody tr th:only-of-type {\n",
       "        vertical-align: middle;\n",
       "    }\n",
       "\n",
       "    .dataframe tbody tr th {\n",
       "        vertical-align: top;\n",
       "    }\n",
       "\n",
       "    .dataframe thead th {\n",
       "        text-align: right;\n",
       "    }\n",
       "</style>\n",
       "<table border=\"1\" class=\"dataframe\">\n",
       "  <thead>\n",
       "    <tr style=\"text-align: right;\">\n",
       "      <th></th>\n",
       "      <th>Age</th>\n",
       "      <th>No Finding</th>\n",
       "      <th>Enlarged Cardiomediastinum</th>\n",
       "      <th>Cardiomegaly</th>\n",
       "      <th>Lung Opacity</th>\n",
       "      <th>Lung Lesion</th>\n",
       "      <th>Edema</th>\n",
       "      <th>Consolidation</th>\n",
       "      <th>Atelectasis</th>\n",
       "      <th>Pneumothorax</th>\n",
       "      <th>Pleural Effusion</th>\n",
       "      <th>Pleural Other</th>\n",
       "      <th>Fracture</th>\n",
       "      <th>Support Devices</th>\n",
       "    </tr>\n",
       "    <tr>\n",
       "      <th>Pneumonia</th>\n",
       "      <th></th>\n",
       "      <th></th>\n",
       "      <th></th>\n",
       "      <th></th>\n",
       "      <th></th>\n",
       "      <th></th>\n",
       "      <th></th>\n",
       "      <th></th>\n",
       "      <th></th>\n",
       "      <th></th>\n",
       "      <th></th>\n",
       "      <th></th>\n",
       "      <th></th>\n",
       "      <th></th>\n",
       "    </tr>\n",
       "  </thead>\n",
       "  <tbody>\n",
       "    <tr>\n",
       "      <th>-1.0</th>\n",
       "      <td>1185042</td>\n",
       "      <td>0.0</td>\n",
       "      <td>-265.0</td>\n",
       "      <td>1298.0</td>\n",
       "      <td>14841.0</td>\n",
       "      <td>753.0</td>\n",
       "      <td>-908.0</td>\n",
       "      <td>1460.0</td>\n",
       "      <td>-4622.0</td>\n",
       "      <td>641.0</td>\n",
       "      <td>6147.0</td>\n",
       "      <td>86.0</td>\n",
       "      <td>469.0</td>\n",
       "      <td>7601.0</td>\n",
       "    </tr>\n",
       "    <tr>\n",
       "      <th>0.0</th>\n",
       "      <td>167198</td>\n",
       "      <td>1158.0</td>\n",
       "      <td>-8.0</td>\n",
       "      <td>138.0</td>\n",
       "      <td>535.0</td>\n",
       "      <td>113.0</td>\n",
       "      <td>103.0</td>\n",
       "      <td>-2.0</td>\n",
       "      <td>71.0</td>\n",
       "      <td>20.0</td>\n",
       "      <td>189.0</td>\n",
       "      <td>18.0</td>\n",
       "      <td>98.0</td>\n",
       "      <td>566.0</td>\n",
       "    </tr>\n",
       "    <tr>\n",
       "      <th>1.0</th>\n",
       "      <td>373337</td>\n",
       "      <td>0.0</td>\n",
       "      <td>-146.0</td>\n",
       "      <td>351.0</td>\n",
       "      <td>3793.0</td>\n",
       "      <td>390.0</td>\n",
       "      <td>729.0</td>\n",
       "      <td>469.0</td>\n",
       "      <td>-168.0</td>\n",
       "      <td>115.0</td>\n",
       "      <td>1462.0</td>\n",
       "      <td>55.0</td>\n",
       "      <td>136.0</td>\n",
       "      <td>1752.0</td>\n",
       "    </tr>\n",
       "  </tbody>\n",
       "</table>\n",
       "</div>"
      ],
      "text/plain": [
       "               Age  No Finding  Enlarged Cardiomediastinum  Cardiomegaly  \\\n",
       "Pneumonia                                                                  \n",
       "-1.0       1185042         0.0                      -265.0        1298.0   \n",
       " 0.0        167198      1158.0                        -8.0         138.0   \n",
       " 1.0        373337         0.0                      -146.0         351.0   \n",
       "\n",
       "           Lung Opacity  Lung Lesion  Edema  Consolidation  Atelectasis  \\\n",
       "Pneumonia                                                                 \n",
       "-1.0            14841.0        753.0 -908.0         1460.0      -4622.0   \n",
       " 0.0              535.0        113.0  103.0           -2.0         71.0   \n",
       " 1.0             3793.0        390.0  729.0          469.0       -168.0   \n",
       "\n",
       "           Pneumothorax  Pleural Effusion  Pleural Other  Fracture  \\\n",
       "Pneumonia                                                            \n",
       "-1.0              641.0            6147.0           86.0     469.0   \n",
       " 0.0               20.0             189.0           18.0      98.0   \n",
       " 1.0              115.0            1462.0           55.0     136.0   \n",
       "\n",
       "           Support Devices  \n",
       "Pneumonia                   \n",
       "-1.0                7601.0  \n",
       " 0.0                 566.0  \n",
       " 1.0                1752.0  "
      ]
     },
     "execution_count": 32,
     "metadata": {},
     "output_type": "execute_result"
    }
   ],
   "source": [
    "data.groupby(['Pneumonia']).sum()"
   ]
  },
  {
   "cell_type": "code",
   "execution_count": 33,
   "metadata": {},
   "outputs": [],
   "source": [
    "data_no_finding = data[data['No Finding']==1.0].copy().reset_index(drop=True)"
   ]
  },
  {
   "cell_type": "code",
   "execution_count": 34,
   "metadata": {},
   "outputs": [
    {
     "data": {
      "text/html": [
       "<div>\n",
       "<style scoped>\n",
       "    .dataframe tbody tr th:only-of-type {\n",
       "        vertical-align: middle;\n",
       "    }\n",
       "\n",
       "    .dataframe tbody tr th {\n",
       "        vertical-align: top;\n",
       "    }\n",
       "\n",
       "    .dataframe thead th {\n",
       "        text-align: right;\n",
       "    }\n",
       "</style>\n",
       "<table border=\"1\" class=\"dataframe\">\n",
       "  <thead>\n",
       "    <tr style=\"text-align: right;\">\n",
       "      <th></th>\n",
       "      <th>No Finding</th>\n",
       "      <th>Enlarged Cardiomediastinum</th>\n",
       "      <th>Cardiomegaly</th>\n",
       "      <th>Lung Opacity</th>\n",
       "      <th>Lung Lesion</th>\n",
       "      <th>Edema</th>\n",
       "      <th>Consolidation</th>\n",
       "      <th>Pneumonia</th>\n",
       "      <th>Atelectasis</th>\n",
       "      <th>Pneumothorax</th>\n",
       "      <th>Pleural Effusion</th>\n",
       "      <th>Pleural Other</th>\n",
       "      <th>Fracture</th>\n",
       "    </tr>\n",
       "  </thead>\n",
       "  <tbody>\n",
       "    <tr>\n",
       "      <th>-1.0</th>\n",
       "      <td>NaN</td>\n",
       "      <td>NaN</td>\n",
       "      <td>NaN</td>\n",
       "      <td>NaN</td>\n",
       "      <td>NaN</td>\n",
       "      <td>NaN</td>\n",
       "      <td>NaN</td>\n",
       "      <td>NaN</td>\n",
       "      <td>NaN</td>\n",
       "      <td>NaN</td>\n",
       "      <td>NaN</td>\n",
       "      <td>NaN</td>\n",
       "      <td>NaN</td>\n",
       "    </tr>\n",
       "    <tr>\n",
       "      <th>0</th>\n",
       "      <td>NaN</td>\n",
       "      <td>8394.0</td>\n",
       "      <td>3350.0</td>\n",
       "      <td>2421.0</td>\n",
       "      <td>377.0</td>\n",
       "      <td>4461.0</td>\n",
       "      <td>8836.0</td>\n",
       "      <td>1158.0</td>\n",
       "      <td>483.0</td>\n",
       "      <td>13411.0</td>\n",
       "      <td>11450.0</td>\n",
       "      <td>20.0</td>\n",
       "      <td>1091.0</td>\n",
       "    </tr>\n",
       "    <tr>\n",
       "      <th>1.0</th>\n",
       "      <td>22381.0</td>\n",
       "      <td>NaN</td>\n",
       "      <td>NaN</td>\n",
       "      <td>NaN</td>\n",
       "      <td>NaN</td>\n",
       "      <td>NaN</td>\n",
       "      <td>NaN</td>\n",
       "      <td>NaN</td>\n",
       "      <td>NaN</td>\n",
       "      <td>NaN</td>\n",
       "      <td>NaN</td>\n",
       "      <td>NaN</td>\n",
       "      <td>NaN</td>\n",
       "    </tr>\n",
       "  </tbody>\n",
       "</table>\n",
       "</div>"
      ],
      "text/plain": [
       "      No Finding  Enlarged Cardiomediastinum  Cardiomegaly  Lung Opacity  \\\n",
       "-1.0         NaN                         NaN           NaN           NaN   \n",
       "0            NaN                      8394.0        3350.0        2421.0   \n",
       "1.0      22381.0                         NaN           NaN           NaN   \n",
       "\n",
       "      Lung Lesion   Edema  Consolidation  Pneumonia  Atelectasis  \\\n",
       "-1.0          NaN     NaN            NaN        NaN          NaN   \n",
       "0           377.0  4461.0         8836.0     1158.0        483.0   \n",
       "1.0           NaN     NaN            NaN        NaN          NaN   \n",
       "\n",
       "      Pneumothorax  Pleural Effusion  Pleural Other  Fracture  \n",
       "-1.0           NaN               NaN            NaN       NaN  \n",
       "0          13411.0           11450.0           20.0    1091.0  \n",
       "1.0            NaN               NaN            NaN       NaN  "
      ]
     },
     "execution_count": 34,
     "metadata": {},
     "output_type": "execute_result"
    }
   ],
   "source": [
    "data_no_finding.apply(pd.Series.value_counts).iloc[0:3,5:18]"
   ]
  },
  {
   "cell_type": "code",
   "execution_count": 35,
   "metadata": {},
   "outputs": [],
   "source": [
    "drop_class_labels = ['Pneumonia', 'Enlarged Cardiomediastinum', 'Cardiomegaly', 'Lung Opacity', \n",
    "                      'Lung Lesion', 'Edema','Consolidation', 'Atelectasis', 'Pneumothorax', \n",
    "                      'Pleural Effusion', 'Pleural Other', 'Fracture', 'Support Devices']\n",
    "data_no_finding.drop(drop_class_labels, inplace=True, axis=1)"
   ]
  },
  {
   "cell_type": "code",
   "execution_count": 36,
   "metadata": {},
   "outputs": [],
   "source": [
    "data_no_finding = data_no_finding.dropna()"
   ]
  },
  {
   "cell_type": "code",
   "execution_count": 37,
   "metadata": {},
   "outputs": [
    {
     "name": "stdout",
     "output_type": "stream",
     "text": [
      "<class 'pandas.core.frame.DataFrame'>\n",
      "Int64Index: 16974 entries, 0 to 22380\n",
      "Data columns (total 11 columns):\n",
      " #   Column           Non-Null Count  Dtype  \n",
      "---  ------           --------------  -----  \n",
      " 0   Path             16974 non-null  object \n",
      " 1   Sex              16974 non-null  object \n",
      " 2   Age              16974 non-null  int64  \n",
      " 3   Frontal_Lateral  16974 non-null  object \n",
      " 4   AP_PA            16974 non-null  object \n",
      " 5   No Finding       16974 non-null  float64\n",
      " 6   set_name         16974 non-null  object \n",
      " 7   set_type         16974 non-null  object \n",
      " 8   patient_id       16974 non-null  object \n",
      " 9   study_no         16974 non-null  object \n",
      " 10  file_name        16974 non-null  object \n",
      "dtypes: float64(1), int64(1), object(9)\n",
      "memory usage: 1.6+ MB\n"
     ]
    }
   ],
   "source": [
    "data_no_finding.info()"
   ]
  },
  {
   "cell_type": "code",
   "execution_count": 38,
   "metadata": {},
   "outputs": [],
   "source": [
    "data_no_finding['No Finding']=0"
   ]
  },
  {
   "cell_type": "code",
   "execution_count": 39,
   "metadata": {},
   "outputs": [],
   "source": [
    "data_no_finding.columns=['Path', 'Sex', 'Age', 'Frontal_Lateral', 'AP_PA', 'Class',\n",
    "       'set_name', 'set_type', 'patient_id', 'study_no', 'file_name']"
   ]
  },
  {
   "cell_type": "code",
   "execution_count": 40,
   "metadata": {},
   "outputs": [
    {
     "data": {
      "text/html": [
       "<div>\n",
       "<style scoped>\n",
       "    .dataframe tbody tr th:only-of-type {\n",
       "        vertical-align: middle;\n",
       "    }\n",
       "\n",
       "    .dataframe tbody tr th {\n",
       "        vertical-align: top;\n",
       "    }\n",
       "\n",
       "    .dataframe thead th {\n",
       "        text-align: right;\n",
       "    }\n",
       "</style>\n",
       "<table border=\"1\" class=\"dataframe\">\n",
       "  <thead>\n",
       "    <tr style=\"text-align: right;\">\n",
       "      <th></th>\n",
       "      <th>Path</th>\n",
       "      <th>Sex</th>\n",
       "      <th>Age</th>\n",
       "      <th>Frontal_Lateral</th>\n",
       "      <th>AP_PA</th>\n",
       "      <th>Class</th>\n",
       "      <th>set_name</th>\n",
       "      <th>set_type</th>\n",
       "      <th>patient_id</th>\n",
       "      <th>study_no</th>\n",
       "      <th>file_name</th>\n",
       "    </tr>\n",
       "  </thead>\n",
       "  <tbody>\n",
       "    <tr>\n",
       "      <th>0</th>\n",
       "      <td>CheXpert-v1.0-small/train/patient00001/study1/view1_frontal.jpg</td>\n",
       "      <td>Female</td>\n",
       "      <td>68</td>\n",
       "      <td>Frontal</td>\n",
       "      <td>AP</td>\n",
       "      <td>0</td>\n",
       "      <td>CheXpert-v1.0-small</td>\n",
       "      <td>train</td>\n",
       "      <td>patient00001</td>\n",
       "      <td>study1</td>\n",
       "      <td>view1_frontal.jpg</td>\n",
       "    </tr>\n",
       "    <tr>\n",
       "      <th>1</th>\n",
       "      <td>CheXpert-v1.0-small/train/patient00004/study1/view1_frontal.jpg</td>\n",
       "      <td>Female</td>\n",
       "      <td>20</td>\n",
       "      <td>Frontal</td>\n",
       "      <td>PA</td>\n",
       "      <td>0</td>\n",
       "      <td>CheXpert-v1.0-small</td>\n",
       "      <td>train</td>\n",
       "      <td>patient00004</td>\n",
       "      <td>study1</td>\n",
       "      <td>view1_frontal.jpg</td>\n",
       "    </tr>\n",
       "    <tr>\n",
       "      <th>3</th>\n",
       "      <td>CheXpert-v1.0-small/train/patient00005/study1/view1_frontal.jpg</td>\n",
       "      <td>Male</td>\n",
       "      <td>33</td>\n",
       "      <td>Frontal</td>\n",
       "      <td>PA</td>\n",
       "      <td>0</td>\n",
       "      <td>CheXpert-v1.0-small</td>\n",
       "      <td>train</td>\n",
       "      <td>patient00005</td>\n",
       "      <td>study1</td>\n",
       "      <td>view1_frontal.jpg</td>\n",
       "    </tr>\n",
       "    <tr>\n",
       "      <th>5</th>\n",
       "      <td>CheXpert-v1.0-small/train/patient00006/study1/view1_frontal.jpg</td>\n",
       "      <td>Female</td>\n",
       "      <td>42</td>\n",
       "      <td>Frontal</td>\n",
       "      <td>AP</td>\n",
       "      <td>0</td>\n",
       "      <td>CheXpert-v1.0-small</td>\n",
       "      <td>train</td>\n",
       "      <td>patient00006</td>\n",
       "      <td>study1</td>\n",
       "      <td>view1_frontal.jpg</td>\n",
       "    </tr>\n",
       "    <tr>\n",
       "      <th>6</th>\n",
       "      <td>CheXpert-v1.0-small/train/patient00010/study1/view1_frontal.jpg</td>\n",
       "      <td>Female</td>\n",
       "      <td>50</td>\n",
       "      <td>Frontal</td>\n",
       "      <td>PA</td>\n",
       "      <td>0</td>\n",
       "      <td>CheXpert-v1.0-small</td>\n",
       "      <td>train</td>\n",
       "      <td>patient00010</td>\n",
       "      <td>study1</td>\n",
       "      <td>view1_frontal.jpg</td>\n",
       "    </tr>\n",
       "  </tbody>\n",
       "</table>\n",
       "</div>"
      ],
      "text/plain": [
       "                                                              Path     Sex  \\\n",
       "0  CheXpert-v1.0-small/train/patient00001/study1/view1_frontal.jpg  Female   \n",
       "1  CheXpert-v1.0-small/train/patient00004/study1/view1_frontal.jpg  Female   \n",
       "3  CheXpert-v1.0-small/train/patient00005/study1/view1_frontal.jpg    Male   \n",
       "5  CheXpert-v1.0-small/train/patient00006/study1/view1_frontal.jpg  Female   \n",
       "6  CheXpert-v1.0-small/train/patient00010/study1/view1_frontal.jpg  Female   \n",
       "\n",
       "   Age Frontal_Lateral AP_PA  Class             set_name set_type  \\\n",
       "0   68         Frontal    AP      0  CheXpert-v1.0-small    train   \n",
       "1   20         Frontal    PA      0  CheXpert-v1.0-small    train   \n",
       "3   33         Frontal    PA      0  CheXpert-v1.0-small    train   \n",
       "5   42         Frontal    AP      0  CheXpert-v1.0-small    train   \n",
       "6   50         Frontal    PA      0  CheXpert-v1.0-small    train   \n",
       "\n",
       "     patient_id study_no          file_name  \n",
       "0  patient00001   study1  view1_frontal.jpg  \n",
       "1  patient00004   study1  view1_frontal.jpg  \n",
       "3  patient00005   study1  view1_frontal.jpg  \n",
       "5  patient00006   study1  view1_frontal.jpg  \n",
       "6  patient00010   study1  view1_frontal.jpg  "
      ]
     },
     "execution_count": 40,
     "metadata": {},
     "output_type": "execute_result"
    }
   ],
   "source": [
    "data_no_finding.head()"
   ]
  },
  {
   "cell_type": "code",
   "execution_count": 41,
   "metadata": {},
   "outputs": [],
   "source": [
    "data_pneumonia = data[data['Pneumonia']==1.0].copy().reset_index(drop=True)\n",
    "#data_pneumonia = data[(data['Pneumonia']==1.0) & \n",
    "#                      (data['Enlarged Cardiomediastinum']!=1.0) &\n",
    "#                      (data['Cardiomegaly']!=1.0) &\n",
    "#                     (data['Lung Opacity']!=1.0) &\n",
    "#                      (data['Lung Lesion']!=1.0) &\n",
    "#                      (data['Edema']!=1.0) &\n",
    "#                      (data['Consolidation']!=1.0) &\n",
    "#                      (data['Atelectasis']!=1.0) &\n",
    "#                      (data['Pneumothorax']!=1.0) &    \n",
    "#                      (data['Pleural Effusion']!=1.0) &\n",
    "#                      (data['Pleural Other']!=1.0) &    \n",
    "#                      (data['Fracture']!=1.0)]"
   ]
  },
  {
   "cell_type": "code",
   "execution_count": 42,
   "metadata": {},
   "outputs": [
    {
     "data": {
      "text/html": [
       "<div>\n",
       "<style scoped>\n",
       "    .dataframe tbody tr th:only-of-type {\n",
       "        vertical-align: middle;\n",
       "    }\n",
       "\n",
       "    .dataframe tbody tr th {\n",
       "        vertical-align: top;\n",
       "    }\n",
       "\n",
       "    .dataframe thead th {\n",
       "        text-align: right;\n",
       "    }\n",
       "</style>\n",
       "<table border=\"1\" class=\"dataframe\">\n",
       "  <thead>\n",
       "    <tr style=\"text-align: right;\">\n",
       "      <th></th>\n",
       "      <th>No Finding</th>\n",
       "      <th>Enlarged Cardiomediastinum</th>\n",
       "      <th>Cardiomegaly</th>\n",
       "      <th>Lung Opacity</th>\n",
       "      <th>Lung Lesion</th>\n",
       "      <th>Edema</th>\n",
       "      <th>Consolidation</th>\n",
       "      <th>Pneumonia</th>\n",
       "      <th>Atelectasis</th>\n",
       "      <th>Pneumothorax</th>\n",
       "      <th>Pleural Effusion</th>\n",
       "      <th>Pleural Other</th>\n",
       "      <th>Fracture</th>\n",
       "    </tr>\n",
       "  </thead>\n",
       "  <tbody>\n",
       "    <tr>\n",
       "      <th>-1.0</th>\n",
       "      <td>NaN</td>\n",
       "      <td>296.0</td>\n",
       "      <td>144.0</td>\n",
       "      <td>232.0</td>\n",
       "      <td>64.0</td>\n",
       "      <td>475.0</td>\n",
       "      <td>545.0</td>\n",
       "      <td>NaN</td>\n",
       "      <td>783.0</td>\n",
       "      <td>31.0</td>\n",
       "      <td>271.0</td>\n",
       "      <td>68.0</td>\n",
       "      <td>5.0</td>\n",
       "    </tr>\n",
       "    <tr>\n",
       "      <th>0.0</th>\n",
       "      <td>NaN</td>\n",
       "      <td>439.0</td>\n",
       "      <td>172.0</td>\n",
       "      <td>129.0</td>\n",
       "      <td>42.0</td>\n",
       "      <td>294.0</td>\n",
       "      <td>528.0</td>\n",
       "      <td>NaN</td>\n",
       "      <td>17.0</td>\n",
       "      <td>571.0</td>\n",
       "      <td>522.0</td>\n",
       "      <td>27.0</td>\n",
       "      <td>23.0</td>\n",
       "    </tr>\n",
       "    <tr>\n",
       "      <th>1.0</th>\n",
       "      <td>NaN</td>\n",
       "      <td>150.0</td>\n",
       "      <td>495.0</td>\n",
       "      <td>4025.0</td>\n",
       "      <td>454.0</td>\n",
       "      <td>1204.0</td>\n",
       "      <td>1014.0</td>\n",
       "      <td>6039.0</td>\n",
       "      <td>615.0</td>\n",
       "      <td>146.0</td>\n",
       "      <td>1733.0</td>\n",
       "      <td>123.0</td>\n",
       "      <td>141.0</td>\n",
       "    </tr>\n",
       "  </tbody>\n",
       "</table>\n",
       "</div>"
      ],
      "text/plain": [
       "      No Finding  Enlarged Cardiomediastinum  Cardiomegaly  Lung Opacity  \\\n",
       "-1.0         NaN                       296.0         144.0         232.0   \n",
       " 0.0         NaN                       439.0         172.0         129.0   \n",
       " 1.0         NaN                       150.0         495.0        4025.0   \n",
       "\n",
       "      Lung Lesion   Edema  Consolidation  Pneumonia  Atelectasis  \\\n",
       "-1.0         64.0   475.0          545.0        NaN        783.0   \n",
       " 0.0         42.0   294.0          528.0        NaN         17.0   \n",
       " 1.0        454.0  1204.0         1014.0     6039.0        615.0   \n",
       "\n",
       "      Pneumothorax  Pleural Effusion  Pleural Other  Fracture  \n",
       "-1.0          31.0             271.0           68.0       5.0  \n",
       " 0.0         571.0             522.0           27.0      23.0  \n",
       " 1.0         146.0            1733.0          123.0     141.0  "
      ]
     },
     "execution_count": 42,
     "metadata": {},
     "output_type": "execute_result"
    }
   ],
   "source": [
    "data_pneumonia.apply(pd.Series.value_counts).iloc[0:3,5:18]"
   ]
  },
  {
   "cell_type": "code",
   "execution_count": 43,
   "metadata": {},
   "outputs": [
    {
     "data": {
      "text/plain": [
       "1.0    6039\n",
       "Name: Pneumonia, dtype: int64"
      ]
     },
     "execution_count": 43,
     "metadata": {},
     "output_type": "execute_result"
    }
   ],
   "source": [
    "data_pneumonia['Pneumonia'].value_counts()"
   ]
  },
  {
   "cell_type": "code",
   "execution_count": 44,
   "metadata": {},
   "outputs": [],
   "source": [
    "drop_class_labels = ['No Finding', 'Enlarged Cardiomediastinum', 'Cardiomegaly', 'Lung Opacity', \n",
    "                      'Lung Lesion', 'Edema','Consolidation', 'Atelectasis', 'Pneumothorax', \n",
    "                      'Pleural Effusion', 'Pleural Other', 'Fracture', 'Support Devices']\n",
    "data_pneumonia.drop(drop_class_labels, inplace=True, axis=1)"
   ]
  },
  {
   "cell_type": "code",
   "execution_count": 45,
   "metadata": {},
   "outputs": [],
   "source": [
    "data_pneumonia.columns=['Path', 'Sex', 'Age', 'Frontal_Lateral', 'AP_PA', 'Class',\n",
    "       'set_name', 'set_type', 'patient_id', 'study_no', 'file_name']"
   ]
  },
  {
   "cell_type": "code",
   "execution_count": 46,
   "metadata": {},
   "outputs": [
    {
     "data": {
      "text/html": [
       "<div>\n",
       "<style scoped>\n",
       "    .dataframe tbody tr th:only-of-type {\n",
       "        vertical-align: middle;\n",
       "    }\n",
       "\n",
       "    .dataframe tbody tr th {\n",
       "        vertical-align: top;\n",
       "    }\n",
       "\n",
       "    .dataframe thead th {\n",
       "        text-align: right;\n",
       "    }\n",
       "</style>\n",
       "<table border=\"1\" class=\"dataframe\">\n",
       "  <thead>\n",
       "    <tr style=\"text-align: right;\">\n",
       "      <th></th>\n",
       "      <th>Path</th>\n",
       "      <th>Sex</th>\n",
       "      <th>Age</th>\n",
       "      <th>Frontal_Lateral</th>\n",
       "      <th>AP_PA</th>\n",
       "      <th>Class</th>\n",
       "      <th>set_name</th>\n",
       "      <th>set_type</th>\n",
       "      <th>patient_id</th>\n",
       "      <th>study_no</th>\n",
       "      <th>file_name</th>\n",
       "    </tr>\n",
       "  </thead>\n",
       "  <tbody>\n",
       "    <tr>\n",
       "      <th>0</th>\n",
       "      <td>CheXpert-v1.0-small/train/patient00085/study1/view1_frontal.jpg</td>\n",
       "      <td>Male</td>\n",
       "      <td>88</td>\n",
       "      <td>Frontal</td>\n",
       "      <td>AP</td>\n",
       "      <td>1.0</td>\n",
       "      <td>CheXpert-v1.0-small</td>\n",
       "      <td>train</td>\n",
       "      <td>patient00085</td>\n",
       "      <td>study1</td>\n",
       "      <td>view1_frontal.jpg</td>\n",
       "    </tr>\n",
       "    <tr>\n",
       "      <th>1</th>\n",
       "      <td>CheXpert-v1.0-small/train/patient00086/study1/view1_frontal.jpg</td>\n",
       "      <td>Female</td>\n",
       "      <td>77</td>\n",
       "      <td>Frontal</td>\n",
       "      <td>AP</td>\n",
       "      <td>1.0</td>\n",
       "      <td>CheXpert-v1.0-small</td>\n",
       "      <td>train</td>\n",
       "      <td>patient00086</td>\n",
       "      <td>study1</td>\n",
       "      <td>view1_frontal.jpg</td>\n",
       "    </tr>\n",
       "    <tr>\n",
       "      <th>2</th>\n",
       "      <td>CheXpert-v1.0-small/train/patient00112/study1/view1_frontal.jpg</td>\n",
       "      <td>Male</td>\n",
       "      <td>35</td>\n",
       "      <td>Frontal</td>\n",
       "      <td>PA</td>\n",
       "      <td>1.0</td>\n",
       "      <td>CheXpert-v1.0-small</td>\n",
       "      <td>train</td>\n",
       "      <td>patient00112</td>\n",
       "      <td>study1</td>\n",
       "      <td>view1_frontal.jpg</td>\n",
       "    </tr>\n",
       "    <tr>\n",
       "      <th>3</th>\n",
       "      <td>CheXpert-v1.0-small/train/patient00112/study1/view2_lateral.jpg</td>\n",
       "      <td>Male</td>\n",
       "      <td>35</td>\n",
       "      <td>Lateral</td>\n",
       "      <td>NaN</td>\n",
       "      <td>1.0</td>\n",
       "      <td>CheXpert-v1.0-small</td>\n",
       "      <td>train</td>\n",
       "      <td>patient00112</td>\n",
       "      <td>study1</td>\n",
       "      <td>view2_lateral.jpg</td>\n",
       "    </tr>\n",
       "    <tr>\n",
       "      <th>4</th>\n",
       "      <td>CheXpert-v1.0-small/train/patient00114/study15/view1_frontal.jpg</td>\n",
       "      <td>Male</td>\n",
       "      <td>55</td>\n",
       "      <td>Frontal</td>\n",
       "      <td>AP</td>\n",
       "      <td>1.0</td>\n",
       "      <td>CheXpert-v1.0-small</td>\n",
       "      <td>train</td>\n",
       "      <td>patient00114</td>\n",
       "      <td>study15</td>\n",
       "      <td>view1_frontal.jpg</td>\n",
       "    </tr>\n",
       "  </tbody>\n",
       "</table>\n",
       "</div>"
      ],
      "text/plain": [
       "                                                               Path     Sex  \\\n",
       "0   CheXpert-v1.0-small/train/patient00085/study1/view1_frontal.jpg    Male   \n",
       "1   CheXpert-v1.0-small/train/patient00086/study1/view1_frontal.jpg  Female   \n",
       "2   CheXpert-v1.0-small/train/patient00112/study1/view1_frontal.jpg    Male   \n",
       "3   CheXpert-v1.0-small/train/patient00112/study1/view2_lateral.jpg    Male   \n",
       "4  CheXpert-v1.0-small/train/patient00114/study15/view1_frontal.jpg    Male   \n",
       "\n",
       "   Age Frontal_Lateral AP_PA  Class             set_name set_type  \\\n",
       "0   88         Frontal    AP    1.0  CheXpert-v1.0-small    train   \n",
       "1   77         Frontal    AP    1.0  CheXpert-v1.0-small    train   \n",
       "2   35         Frontal    PA    1.0  CheXpert-v1.0-small    train   \n",
       "3   35         Lateral   NaN    1.0  CheXpert-v1.0-small    train   \n",
       "4   55         Frontal    AP    1.0  CheXpert-v1.0-small    train   \n",
       "\n",
       "     patient_id study_no          file_name  \n",
       "0  patient00085   study1  view1_frontal.jpg  \n",
       "1  patient00086   study1  view1_frontal.jpg  \n",
       "2  patient00112   study1  view1_frontal.jpg  \n",
       "3  patient00112   study1  view2_lateral.jpg  \n",
       "4  patient00114  study15  view1_frontal.jpg  "
      ]
     },
     "execution_count": 46,
     "metadata": {},
     "output_type": "execute_result"
    }
   ],
   "source": [
    "data_pneumonia.head()"
   ]
  },
  {
   "cell_type": "code",
   "execution_count": 47,
   "metadata": {},
   "outputs": [
    {
     "name": "stdout",
     "output_type": "stream",
     "text": [
      "<class 'pandas.core.frame.DataFrame'>\n",
      "RangeIndex: 6039 entries, 0 to 6038\n",
      "Data columns (total 11 columns):\n",
      " #   Column           Non-Null Count  Dtype  \n",
      "---  ------           --------------  -----  \n",
      " 0   Path             6039 non-null   object \n",
      " 1   Sex              6039 non-null   object \n",
      " 2   Age              6039 non-null   int64  \n",
      " 3   Frontal_Lateral  6039 non-null   object \n",
      " 4   AP_PA            4675 non-null   object \n",
      " 5   Class            6039 non-null   float64\n",
      " 6   set_name         6039 non-null   object \n",
      " 7   set_type         6039 non-null   object \n",
      " 8   patient_id       6039 non-null   object \n",
      " 9   study_no         6039 non-null   object \n",
      " 10  file_name        6039 non-null   object \n",
      "dtypes: float64(1), int64(1), object(9)\n",
      "memory usage: 519.1+ KB\n"
     ]
    }
   ],
   "source": [
    "data_pneumonia.info()"
   ]
  },
  {
   "cell_type": "code",
   "execution_count": 48,
   "metadata": {},
   "outputs": [
    {
     "data": {
      "text/html": [
       "<div>\n",
       "<style scoped>\n",
       "    .dataframe tbody tr th:only-of-type {\n",
       "        vertical-align: middle;\n",
       "    }\n",
       "\n",
       "    .dataframe tbody tr th {\n",
       "        vertical-align: top;\n",
       "    }\n",
       "\n",
       "    .dataframe thead th {\n",
       "        text-align: right;\n",
       "    }\n",
       "</style>\n",
       "<table border=\"1\" class=\"dataframe\">\n",
       "  <thead>\n",
       "    <tr style=\"text-align: right;\">\n",
       "      <th></th>\n",
       "      <th>Frontal_Lateral</th>\n",
       "      <th>AP_PA</th>\n",
       "    </tr>\n",
       "  </thead>\n",
       "  <tbody>\n",
       "    <tr>\n",
       "      <th>AP</th>\n",
       "      <td>NaN</td>\n",
       "      <td>3476.0</td>\n",
       "    </tr>\n",
       "    <tr>\n",
       "      <th>Frontal</th>\n",
       "      <td>4675.0</td>\n",
       "      <td>NaN</td>\n",
       "    </tr>\n",
       "    <tr>\n",
       "      <th>LL</th>\n",
       "      <td>NaN</td>\n",
       "      <td>1.0</td>\n",
       "    </tr>\n",
       "    <tr>\n",
       "      <th>Lateral</th>\n",
       "      <td>1364.0</td>\n",
       "      <td>NaN</td>\n",
       "    </tr>\n",
       "    <tr>\n",
       "      <th>PA</th>\n",
       "      <td>NaN</td>\n",
       "      <td>1198.0</td>\n",
       "    </tr>\n",
       "  </tbody>\n",
       "</table>\n",
       "</div>"
      ],
      "text/plain": [
       "         Frontal_Lateral   AP_PA\n",
       "AP                   NaN  3476.0\n",
       "Frontal           4675.0     NaN\n",
       "LL                   NaN     1.0\n",
       "Lateral           1364.0     NaN\n",
       "PA                   NaN  1198.0"
      ]
     },
     "execution_count": 48,
     "metadata": {},
     "output_type": "execute_result"
    }
   ],
   "source": [
    "data_pneumonia[['Frontal_Lateral', 'AP_PA']].apply(pd.Series.value_counts).iloc[:,:]"
   ]
  },
  {
   "cell_type": "code",
   "execution_count": 49,
   "metadata": {},
   "outputs": [],
   "source": [
    "data_pneumonia_idx=data_pneumonia[data_pneumonia['Frontal_Lateral']=='Lateral'].index\n",
    "data_no_finding_idx=data_no_finding [data_no_finding['Frontal_Lateral']=='Lateral'].index"
   ]
  },
  {
   "cell_type": "code",
   "execution_count": 50,
   "metadata": {},
   "outputs": [],
   "source": [
    "data_pneumonia.drop(data_pneumonia_idx, inplace=True)\n",
    "data_no_finding.drop(data_no_finding_idx, inplace=True)"
   ]
  },
  {
   "cell_type": "code",
   "execution_count": 51,
   "metadata": {},
   "outputs": [
    {
     "data": {
      "text/html": [
       "<div>\n",
       "<style scoped>\n",
       "    .dataframe tbody tr th:only-of-type {\n",
       "        vertical-align: middle;\n",
       "    }\n",
       "\n",
       "    .dataframe tbody tr th {\n",
       "        vertical-align: top;\n",
       "    }\n",
       "\n",
       "    .dataframe thead th {\n",
       "        text-align: right;\n",
       "    }\n",
       "</style>\n",
       "<table border=\"1\" class=\"dataframe\">\n",
       "  <thead>\n",
       "    <tr style=\"text-align: right;\">\n",
       "      <th></th>\n",
       "      <th>Path</th>\n",
       "      <th>Sex</th>\n",
       "      <th>Age</th>\n",
       "      <th>Frontal_Lateral</th>\n",
       "      <th>AP_PA</th>\n",
       "      <th>Class</th>\n",
       "      <th>set_name</th>\n",
       "      <th>set_type</th>\n",
       "      <th>patient_id</th>\n",
       "      <th>study_no</th>\n",
       "      <th>file_name</th>\n",
       "    </tr>\n",
       "  </thead>\n",
       "  <tbody>\n",
       "    <tr>\n",
       "      <th>0</th>\n",
       "      <td>CheXpert-v1.0-small/train/patient00085/study1/view1_frontal.jpg</td>\n",
       "      <td>Male</td>\n",
       "      <td>88</td>\n",
       "      <td>Frontal</td>\n",
       "      <td>AP</td>\n",
       "      <td>1.0</td>\n",
       "      <td>CheXpert-v1.0-small</td>\n",
       "      <td>train</td>\n",
       "      <td>patient00085</td>\n",
       "      <td>study1</td>\n",
       "      <td>view1_frontal.jpg</td>\n",
       "    </tr>\n",
       "    <tr>\n",
       "      <th>1</th>\n",
       "      <td>CheXpert-v1.0-small/train/patient00086/study1/view1_frontal.jpg</td>\n",
       "      <td>Female</td>\n",
       "      <td>77</td>\n",
       "      <td>Frontal</td>\n",
       "      <td>AP</td>\n",
       "      <td>1.0</td>\n",
       "      <td>CheXpert-v1.0-small</td>\n",
       "      <td>train</td>\n",
       "      <td>patient00086</td>\n",
       "      <td>study1</td>\n",
       "      <td>view1_frontal.jpg</td>\n",
       "    </tr>\n",
       "    <tr>\n",
       "      <th>2</th>\n",
       "      <td>CheXpert-v1.0-small/train/patient00112/study1/view1_frontal.jpg</td>\n",
       "      <td>Male</td>\n",
       "      <td>35</td>\n",
       "      <td>Frontal</td>\n",
       "      <td>PA</td>\n",
       "      <td>1.0</td>\n",
       "      <td>CheXpert-v1.0-small</td>\n",
       "      <td>train</td>\n",
       "      <td>patient00112</td>\n",
       "      <td>study1</td>\n",
       "      <td>view1_frontal.jpg</td>\n",
       "    </tr>\n",
       "    <tr>\n",
       "      <th>4</th>\n",
       "      <td>CheXpert-v1.0-small/train/patient00114/study15/view1_frontal.jpg</td>\n",
       "      <td>Male</td>\n",
       "      <td>55</td>\n",
       "      <td>Frontal</td>\n",
       "      <td>AP</td>\n",
       "      <td>1.0</td>\n",
       "      <td>CheXpert-v1.0-small</td>\n",
       "      <td>train</td>\n",
       "      <td>patient00114</td>\n",
       "      <td>study15</td>\n",
       "      <td>view1_frontal.jpg</td>\n",
       "    </tr>\n",
       "    <tr>\n",
       "      <th>5</th>\n",
       "      <td>CheXpert-v1.0-small/train/patient00122/study5/view1_frontal.jpg</td>\n",
       "      <td>Female</td>\n",
       "      <td>72</td>\n",
       "      <td>Frontal</td>\n",
       "      <td>AP</td>\n",
       "      <td>1.0</td>\n",
       "      <td>CheXpert-v1.0-small</td>\n",
       "      <td>train</td>\n",
       "      <td>patient00122</td>\n",
       "      <td>study5</td>\n",
       "      <td>view1_frontal.jpg</td>\n",
       "    </tr>\n",
       "  </tbody>\n",
       "</table>\n",
       "</div>"
      ],
      "text/plain": [
       "                                                               Path     Sex  \\\n",
       "0   CheXpert-v1.0-small/train/patient00085/study1/view1_frontal.jpg    Male   \n",
       "1   CheXpert-v1.0-small/train/patient00086/study1/view1_frontal.jpg  Female   \n",
       "2   CheXpert-v1.0-small/train/patient00112/study1/view1_frontal.jpg    Male   \n",
       "4  CheXpert-v1.0-small/train/patient00114/study15/view1_frontal.jpg    Male   \n",
       "5   CheXpert-v1.0-small/train/patient00122/study5/view1_frontal.jpg  Female   \n",
       "\n",
       "   Age Frontal_Lateral AP_PA  Class             set_name set_type  \\\n",
       "0   88         Frontal    AP    1.0  CheXpert-v1.0-small    train   \n",
       "1   77         Frontal    AP    1.0  CheXpert-v1.0-small    train   \n",
       "2   35         Frontal    PA    1.0  CheXpert-v1.0-small    train   \n",
       "4   55         Frontal    AP    1.0  CheXpert-v1.0-small    train   \n",
       "5   72         Frontal    AP    1.0  CheXpert-v1.0-small    train   \n",
       "\n",
       "     patient_id study_no          file_name  \n",
       "0  patient00085   study1  view1_frontal.jpg  \n",
       "1  patient00086   study1  view1_frontal.jpg  \n",
       "2  patient00112   study1  view1_frontal.jpg  \n",
       "4  patient00114  study15  view1_frontal.jpg  \n",
       "5  patient00122   study5  view1_frontal.jpg  "
      ]
     },
     "execution_count": 51,
     "metadata": {},
     "output_type": "execute_result"
    }
   ],
   "source": [
    "data_pneumonia.head()"
   ]
  },
  {
   "cell_type": "code",
   "execution_count": 52,
   "metadata": {},
   "outputs": [],
   "source": [
    "data_no_finding.reset_index(drop=True, inplace=True)\n",
    "data_pneumonia.reset_index(drop=True, inplace=True)"
   ]
  },
  {
   "cell_type": "code",
   "execution_count": 53,
   "metadata": {},
   "outputs": [],
   "source": [
    "data_no_finding_idx = data_no_finding[data_no_finding['AP_PA']==\"PA\"].index\n",
    "data_pneumonia_idx = data_pneumonia[data_pneumonia['AP_PA']==\"PA\"].index"
   ]
  },
  {
   "cell_type": "code",
   "execution_count": 54,
   "metadata": {},
   "outputs": [],
   "source": [
    "data_no_finding.drop(data_no_finding_idx , inplace=True)\n",
    "data_pneumonia.drop(data_pneumonia_idx, inplace=True)"
   ]
  },
  {
   "cell_type": "code",
   "execution_count": 55,
   "metadata": {},
   "outputs": [],
   "source": [
    "data_no_finding.drop(['AP_PA', 'set_name'], axis=1, inplace=True)\n",
    "data_pneumonia.drop(['AP_PA', 'set_name'], axis=1, inplace=True)"
   ]
  },
  {
   "cell_type": "code",
   "execution_count": 56,
   "metadata": {},
   "outputs": [],
   "source": [
    "data_no_finding.dropna(inplace=True)\n",
    "data_pneumonia.dropna(inplace=True)"
   ]
  },
  {
   "cell_type": "code",
   "execution_count": 57,
   "metadata": {},
   "outputs": [],
   "source": [
    "data_no_finding.reset_index(drop=True, inplace=True)\n",
    "data_pneumonia.reset_index(drop=True, inplace=True)"
   ]
  },
  {
   "cell_type": "code",
   "execution_count": 58,
   "metadata": {},
   "outputs": [
    {
     "name": "stdout",
     "output_type": "stream",
     "text": [
      "<class 'pandas.core.frame.DataFrame'>\n",
      "RangeIndex: 3477 entries, 0 to 3476\n",
      "Data columns (total 9 columns):\n",
      " #   Column           Non-Null Count  Dtype  \n",
      "---  ------           --------------  -----  \n",
      " 0   Path             3477 non-null   object \n",
      " 1   Sex              3477 non-null   object \n",
      " 2   Age              3477 non-null   int64  \n",
      " 3   Frontal_Lateral  3477 non-null   object \n",
      " 4   Class            3477 non-null   float64\n",
      " 5   set_type         3477 non-null   object \n",
      " 6   patient_id       3477 non-null   object \n",
      " 7   study_no         3477 non-null   object \n",
      " 8   file_name        3477 non-null   object \n",
      "dtypes: float64(1), int64(1), object(7)\n",
      "memory usage: 244.6+ KB\n",
      "<class 'pandas.core.frame.DataFrame'>\n",
      "RangeIndex: 11475 entries, 0 to 11474\n",
      "Data columns (total 9 columns):\n",
      " #   Column           Non-Null Count  Dtype \n",
      "---  ------           --------------  ----- \n",
      " 0   Path             11475 non-null  object\n",
      " 1   Sex              11475 non-null  object\n",
      " 2   Age              11475 non-null  int64 \n",
      " 3   Frontal_Lateral  11475 non-null  object\n",
      " 4   Class            11475 non-null  int64 \n",
      " 5   set_type         11475 non-null  object\n",
      " 6   patient_id       11475 non-null  object\n",
      " 7   study_no         11475 non-null  object\n",
      " 8   file_name        11475 non-null  object\n",
      "dtypes: int64(2), object(7)\n",
      "memory usage: 807.0+ KB\n"
     ]
    }
   ],
   "source": [
    "data_pneumonia.info()\n",
    "data_no_finding.info()"
   ]
  },
  {
   "cell_type": "code",
   "execution_count": 59,
   "metadata": {},
   "outputs": [
    {
     "data": {
      "text/plain": [
       "<AxesSubplot:>"
      ]
     },
     "execution_count": 59,
     "metadata": {},
     "output_type": "execute_result"
    },
    {
     "data": {
      "image/png": "[encoded data removed]",
      "text/plain": [
       "<Figure size 432x288 with 1 Axes>"
      ]
     },
     "metadata": {
      "needs_background": "light"
     },
     "output_type": "display_data"
    }
   ],
   "source": [
    "data_pneumonia.Sex.hist()"
   ]
  },
  {
   "cell_type": "code",
   "execution_count": 60,
   "metadata": {
    "scrolled": true
   },
   "outputs": [
    {
     "data": {
      "text/plain": [
       "<AxesSubplot:>"
      ]
     },
     "execution_count": 60,
     "metadata": {},
     "output_type": "execute_result"
    },
    {
     "data": {
      "image/png": "[encoded data removed]",
      "text/plain": [
       "<Figure size 432x288 with 1 Axes>"
      ]
     },
     "metadata": {
      "needs_background": "light"
     },
     "output_type": "display_data"
    }
   ],
   "source": [
    "data_no_finding.Sex.hist()"
   ]
  },
  {
   "cell_type": "markdown",
   "metadata": {},
   "source": [
    "**Class counts in Pneumonia dataset**"
   ]
  },
  {
   "cell_type": "code",
   "execution_count": 61,
   "metadata": {},
   "outputs": [],
   "source": [
    "data_pneumonia.drop(['Sex'], axis=1, inplace=True)\n",
    "data_no_finding.drop(['Sex'], axis=1, inplace=True)"
   ]
  },
  {
   "cell_type": "code",
   "execution_count": 62,
   "metadata": {},
   "outputs": [
    {
     "data": {
      "text/html": [
       "<div>\n",
       "<style scoped>\n",
       "    .dataframe tbody tr th:only-of-type {\n",
       "        vertical-align: middle;\n",
       "    }\n",
       "\n",
       "    .dataframe tbody tr th {\n",
       "        vertical-align: top;\n",
       "    }\n",
       "\n",
       "    .dataframe thead th {\n",
       "        text-align: right;\n",
       "    }\n",
       "</style>\n",
       "<table border=\"1\" class=\"dataframe\">\n",
       "  <thead>\n",
       "    <tr style=\"text-align: right;\">\n",
       "      <th></th>\n",
       "      <th>Path</th>\n",
       "      <th>Age</th>\n",
       "      <th>Frontal_Lateral</th>\n",
       "      <th>Class</th>\n",
       "      <th>set_type</th>\n",
       "      <th>patient_id</th>\n",
       "      <th>study_no</th>\n",
       "      <th>file_name</th>\n",
       "    </tr>\n",
       "  </thead>\n",
       "  <tbody>\n",
       "    <tr>\n",
       "      <th>0</th>\n",
       "      <td>CheXpert-v1.0-small/train/patient00085/study1/view1_frontal.jpg</td>\n",
       "      <td>88</td>\n",
       "      <td>Frontal</td>\n",
       "      <td>1.0</td>\n",
       "      <td>train</td>\n",
       "      <td>patient00085</td>\n",
       "      <td>study1</td>\n",
       "      <td>view1_frontal.jpg</td>\n",
       "    </tr>\n",
       "    <tr>\n",
       "      <th>1</th>\n",
       "      <td>CheXpert-v1.0-small/train/patient00086/study1/view1_frontal.jpg</td>\n",
       "      <td>77</td>\n",
       "      <td>Frontal</td>\n",
       "      <td>1.0</td>\n",
       "      <td>train</td>\n",
       "      <td>patient00086</td>\n",
       "      <td>study1</td>\n",
       "      <td>view1_frontal.jpg</td>\n",
       "    </tr>\n",
       "    <tr>\n",
       "      <th>2</th>\n",
       "      <td>CheXpert-v1.0-small/train/patient00114/study15/view1_frontal.jpg</td>\n",
       "      <td>55</td>\n",
       "      <td>Frontal</td>\n",
       "      <td>1.0</td>\n",
       "      <td>train</td>\n",
       "      <td>patient00114</td>\n",
       "      <td>study15</td>\n",
       "      <td>view1_frontal.jpg</td>\n",
       "    </tr>\n",
       "    <tr>\n",
       "      <th>3</th>\n",
       "      <td>CheXpert-v1.0-small/train/patient00122/study5/view1_frontal.jpg</td>\n",
       "      <td>72</td>\n",
       "      <td>Frontal</td>\n",
       "      <td>1.0</td>\n",
       "      <td>train</td>\n",
       "      <td>patient00122</td>\n",
       "      <td>study5</td>\n",
       "      <td>view1_frontal.jpg</td>\n",
       "    </tr>\n",
       "    <tr>\n",
       "      <th>4</th>\n",
       "      <td>CheXpert-v1.0-small/train/patient00155/study6/view1_frontal.jpg</td>\n",
       "      <td>70</td>\n",
       "      <td>Frontal</td>\n",
       "      <td>1.0</td>\n",
       "      <td>train</td>\n",
       "      <td>patient00155</td>\n",
       "      <td>study6</td>\n",
       "      <td>view1_frontal.jpg</td>\n",
       "    </tr>\n",
       "  </tbody>\n",
       "</table>\n",
       "</div>"
      ],
      "text/plain": [
       "                                                               Path  Age  \\\n",
       "0   CheXpert-v1.0-small/train/patient00085/study1/view1_frontal.jpg   88   \n",
       "1   CheXpert-v1.0-small/train/patient00086/study1/view1_frontal.jpg   77   \n",
       "2  CheXpert-v1.0-small/train/patient00114/study15/view1_frontal.jpg   55   \n",
       "3   CheXpert-v1.0-small/train/patient00122/study5/view1_frontal.jpg   72   \n",
       "4   CheXpert-v1.0-small/train/patient00155/study6/view1_frontal.jpg   70   \n",
       "\n",
       "  Frontal_Lateral  Class set_type    patient_id study_no          file_name  \n",
       "0         Frontal    1.0    train  patient00085   study1  view1_frontal.jpg  \n",
       "1         Frontal    1.0    train  patient00086   study1  view1_frontal.jpg  \n",
       "2         Frontal    1.0    train  patient00114  study15  view1_frontal.jpg  \n",
       "3         Frontal    1.0    train  patient00122   study5  view1_frontal.jpg  \n",
       "4         Frontal    1.0    train  patient00155   study6  view1_frontal.jpg  "
      ]
     },
     "execution_count": 62,
     "metadata": {},
     "output_type": "execute_result"
    }
   ],
   "source": [
    "data_pneumonia.head()"
   ]
  },
  {
   "cell_type": "code",
   "execution_count": 63,
   "metadata": {},
   "outputs": [
    {
     "data": {
      "text/html": [
       "<div>\n",
       "<style scoped>\n",
       "    .dataframe tbody tr th:only-of-type {\n",
       "        vertical-align: middle;\n",
       "    }\n",
       "\n",
       "    .dataframe tbody tr th {\n",
       "        vertical-align: top;\n",
       "    }\n",
       "\n",
       "    .dataframe thead th {\n",
       "        text-align: right;\n",
       "    }\n",
       "</style>\n",
       "<table border=\"1\" class=\"dataframe\">\n",
       "  <thead>\n",
       "    <tr style=\"text-align: right;\">\n",
       "      <th></th>\n",
       "      <th>Path</th>\n",
       "      <th>Age</th>\n",
       "      <th>Frontal_Lateral</th>\n",
       "      <th>Class</th>\n",
       "      <th>set_type</th>\n",
       "      <th>patient_id</th>\n",
       "      <th>study_no</th>\n",
       "      <th>file_name</th>\n",
       "    </tr>\n",
       "  </thead>\n",
       "  <tbody>\n",
       "    <tr>\n",
       "      <th>0</th>\n",
       "      <td>CheXpert-v1.0-small/train/patient00001/study1/view1_frontal.jpg</td>\n",
       "      <td>68</td>\n",
       "      <td>Frontal</td>\n",
       "      <td>0</td>\n",
       "      <td>train</td>\n",
       "      <td>patient00001</td>\n",
       "      <td>study1</td>\n",
       "      <td>view1_frontal.jpg</td>\n",
       "    </tr>\n",
       "    <tr>\n",
       "      <th>1</th>\n",
       "      <td>CheXpert-v1.0-small/train/patient00006/study1/view1_frontal.jpg</td>\n",
       "      <td>42</td>\n",
       "      <td>Frontal</td>\n",
       "      <td>0</td>\n",
       "      <td>train</td>\n",
       "      <td>patient00006</td>\n",
       "      <td>study1</td>\n",
       "      <td>view1_frontal.jpg</td>\n",
       "    </tr>\n",
       "    <tr>\n",
       "      <th>2</th>\n",
       "      <td>CheXpert-v1.0-small/train/patient00017/study1/view1_frontal.jpg</td>\n",
       "      <td>56</td>\n",
       "      <td>Frontal</td>\n",
       "      <td>0</td>\n",
       "      <td>train</td>\n",
       "      <td>patient00017</td>\n",
       "      <td>study1</td>\n",
       "      <td>view1_frontal.jpg</td>\n",
       "    </tr>\n",
       "    <tr>\n",
       "      <th>3</th>\n",
       "      <td>CheXpert-v1.0-small/train/patient00030/study1/view1_frontal.jpg</td>\n",
       "      <td>74</td>\n",
       "      <td>Frontal</td>\n",
       "      <td>0</td>\n",
       "      <td>train</td>\n",
       "      <td>patient00030</td>\n",
       "      <td>study1</td>\n",
       "      <td>view1_frontal.jpg</td>\n",
       "    </tr>\n",
       "    <tr>\n",
       "      <th>4</th>\n",
       "      <td>CheXpert-v1.0-small/train/patient00049/study1/view1_frontal.jpg</td>\n",
       "      <td>63</td>\n",
       "      <td>Frontal</td>\n",
       "      <td>0</td>\n",
       "      <td>train</td>\n",
       "      <td>patient00049</td>\n",
       "      <td>study1</td>\n",
       "      <td>view1_frontal.jpg</td>\n",
       "    </tr>\n",
       "  </tbody>\n",
       "</table>\n",
       "</div>"
      ],
      "text/plain": [
       "                                                              Path  Age  \\\n",
       "0  CheXpert-v1.0-small/train/patient00001/study1/view1_frontal.jpg   68   \n",
       "1  CheXpert-v1.0-small/train/patient00006/study1/view1_frontal.jpg   42   \n",
       "2  CheXpert-v1.0-small/train/patient00017/study1/view1_frontal.jpg   56   \n",
       "3  CheXpert-v1.0-small/train/patient00030/study1/view1_frontal.jpg   74   \n",
       "4  CheXpert-v1.0-small/train/patient00049/study1/view1_frontal.jpg   63   \n",
       "\n",
       "  Frontal_Lateral  Class set_type    patient_id study_no          file_name  \n",
       "0         Frontal      0    train  patient00001   study1  view1_frontal.jpg  \n",
       "1         Frontal      0    train  patient00006   study1  view1_frontal.jpg  \n",
       "2         Frontal      0    train  patient00017   study1  view1_frontal.jpg  \n",
       "3         Frontal      0    train  patient00030   study1  view1_frontal.jpg  \n",
       "4         Frontal      0    train  patient00049   study1  view1_frontal.jpg  "
      ]
     },
     "execution_count": 63,
     "metadata": {},
     "output_type": "execute_result"
    }
   ],
   "source": [
    "data_no_finding.head()"
   ]
  },
  {
   "cell_type": "markdown",
   "metadata": {},
   "source": [
    "__For Training Data Split dataset into two frames for each label class__"
   ]
  },
  {
   "cell_type": "code",
   "execution_count": 117,
   "metadata": {},
   "outputs": [],
   "source": [
    "def copy_n_images(dataframe, data_path, new_path, set_name, n_start, no_rec):\n",
    "    #This function will extract a set of images from the entire CheXpert downloaded set\n",
    "    #Then will copy images and create directory structures from main set in datafram\n",
    "    #dataframe: chexpert meta data dataframe (e.g. train.csv dataframe)\n",
    "    #new_path: directory structure where to move images to. (e.g. 'data')\n",
    "    #set_name: type of batch (train, valid, test) \n",
    "    #n_start: index starting value in dataframe\n",
    "    #no_rec: inumber of images to copy in this batch\n",
    "    \n",
    "    from shutil import copyfile\n",
    "    from sys import exit\n",
    "    print(\"\\nSet Name: \" + set_name + \"\\n Start Index: \" + str(n_start) + \"\\n No of Records: \" + str(no_rec))\n",
    "    n=no_rec\n",
    "\n",
    "    if not os.path.exists(new_path): \n",
    "        os.mkdir(new_path)\n",
    "        \n",
    "    if not os.path.exists(os.path.join(new_path, set_name)): \n",
    "        os.mkdir(os.path.join(new_path, set_name))\n",
    "    \n",
    "    for i in range(n_start, n_start + no_rec ,1):\n",
    "        \n",
    "        img_class = str(int(dataframe.Class.iloc[i]))\n",
    "        \n",
    "        source = os.path.join(data_path, dataframe.set_type.iloc[i], \n",
    "                              dataframe.patient_id.iloc[i], \n",
    "                              dataframe.study_no.iloc[i], \n",
    "                              dataframe.file_name.iloc[i])\n",
    "        target = os.path.join(new_path, set_name, img_class)\n",
    "\n",
    "        if not os.path.exists(target): \n",
    "            os.mkdir(target)\n",
    "\n",
    "        target = os.path.join(target, img_class +\"_\"+str(dataframe.index[i])+\".jpg\")\n",
    "\n",
    "        \n",
    "        # adding exception handling\n",
    "        try:\n",
    "            copyfile(source, target)\n",
    "        except IOError as e:\n",
    "            print(\"Unable to copy file. %s\" % e)\n",
    "            exit(1)\n",
    "        except:\n",
    "            print(\"Unexpected error:\", sys.exc_info())\n",
    "            exit(1)\n",
    "            "
   ]
  },
  {
   "cell_type": "code",
   "execution_count": 119,
   "metadata": {},
   "outputs": [
    {
     "data": {
      "text/plain": [
       "((11475, 8), (3477, 8))"
      ]
     },
     "execution_count": 119,
     "metadata": {},
     "output_type": "execute_result"
    }
   ],
   "source": [
    "data_no_finding.shape, data_pneumonia.shape"
   ]
  },
  {
   "cell_type": "markdown",
   "metadata": {},
   "source": [
    "**Create three batchs with specified image counts with equal number of classifications \n",
    "and create new dataframe with new path information**"
   ]
  },
  {
   "cell_type": "code",
   "execution_count": 120,
   "metadata": {
    "scrolled": true
   },
   "outputs": [
    {
     "name": "stdout",
     "output_type": "stream",
     "text": [
      "\n",
      "Set Name: test\n",
      " Start Index: 0\n",
      " No of Records: 0\n",
      "\n",
      "Set Name: test\n",
      " Start Index: 0\n",
      " No of Records: 0\n",
      "\n",
      "Set Name: train\n",
      " Start Index: 0\n",
      " No of Records: 3477\n",
      "\n",
      "Set Name: train\n",
      " Start Index: 0\n",
      " No of Records: 11475\n"
     ]
    }
   ],
   "source": [
    "test_set_count = 0\n",
    "\n",
    "set_type_count_pos = [test_set_count, data_pneumonia.shape[0]-test_set_count]\n",
    "set_type_count_neg = [test_set_count, data_no_finding.shape[0]-test_set_count]\n",
    "\n",
    "\n",
    "set_type_count = [test_set_count]\n",
    "\n",
    "set_type = ['test', 'train']\n",
    "start = 0\n",
    "target_path = os.path.join(data_path, 'mxnet')\n",
    "\n",
    "dataset= pd.DataFrame()\n",
    "for k, v in enumerate(set_type):\n",
    "\n",
    "    copy_n_images(data_pneumonia, data_path, target_path, v, start, set_type_count_pos[k])\n",
    "    copy_n_images(data_no_finding, data_path, target_path, v, start, set_type_count_neg[k])\n",
    "    start += test_set_count\n"
   ]
  },
  {
   "cell_type": "markdown",
   "metadata": {},
   "source": [
    "**Run following scripts to create .lst and .rec files.**"
   ]
  },
  {
   "cell_type": "code",
   "execution_count": 147,
   "metadata": {},
   "outputs": [
    {
     "name": "stderr",
     "output_type": "stream",
     "text": [
      "WARNING:sagemaker:Couldn't call 'get_role' to get Role ARN from role name arn:aws:iam::777332035258:root to get Role path.\n"
     ]
    },
    {
     "ename": "ValueError",
     "evalue": "The current AWS identity is not a role: arn:aws:iam::777332035258:root, therefore it cannot be used as a SageMaker execution role",
     "output_type": "error",
     "traceback": [
      "\u001b[1;31m---------------------------------------------------------------------------\u001b[0m",
      "\u001b[1;31mValueError\u001b[0m                                Traceback (most recent call last)",
      "\u001b[1;32m<ipython-input-147-742a3d46274f>\u001b[0m in \u001b[0;36m<module>\u001b[1;34m\u001b[0m\n\u001b[0;32m      2\u001b[0m \u001b[1;32mfrom\u001b[0m \u001b[0msagemaker\u001b[0m \u001b[1;32mimport\u001b[0m \u001b[0mget_execution_role\u001b[0m\u001b[1;33m\u001b[0m\u001b[1;33m\u001b[0m\u001b[0m\n\u001b[0;32m      3\u001b[0m \u001b[1;33m\u001b[0m\u001b[0m\n\u001b[1;32m----> 4\u001b[1;33m \u001b[0mrole\u001b[0m \u001b[1;33m=\u001b[0m \u001b[0mget_execution_role\u001b[0m\u001b[1;33m(\u001b[0m\u001b[1;33m)\u001b[0m\u001b[1;33m\u001b[0m\u001b[1;33m\u001b[0m\u001b[0m\n\u001b[0m\u001b[0;32m      5\u001b[0m \u001b[0mprint\u001b[0m\u001b[1;33m(\u001b[0m\u001b[0mrole\u001b[0m\u001b[1;33m)\u001b[0m\u001b[1;33m\u001b[0m\u001b[1;33m\u001b[0m\u001b[0m\n\u001b[0;32m      6\u001b[0m \u001b[0msess\u001b[0m \u001b[1;33m=\u001b[0m \u001b[0msagemaker\u001b[0m\u001b[1;33m.\u001b[0m\u001b[0mSession\u001b[0m\u001b[1;33m(\u001b[0m\u001b[1;33m)\u001b[0m\u001b[1;33m\u001b[0m\u001b[1;33m\u001b[0m\u001b[0m\n",
      "\u001b[1;32mC:\\ProgramData\\Anaconda3\\lib\\site-packages\\sagemaker\\session.py\u001b[0m in \u001b[0;36mget_execution_role\u001b[1;34m(sagemaker_session)\u001b[0m\n\u001b[0;32m   4129\u001b[0m         \u001b[1;34m\"SageMaker execution role\"\u001b[0m\u001b[1;33m\u001b[0m\u001b[1;33m\u001b[0m\u001b[0m\n\u001b[0;32m   4130\u001b[0m     )\n\u001b[1;32m-> 4131\u001b[1;33m     \u001b[1;32mraise\u001b[0m \u001b[0mValueError\u001b[0m\u001b[1;33m(\u001b[0m\u001b[0mmessage\u001b[0m\u001b[1;33m.\u001b[0m\u001b[0mformat\u001b[0m\u001b[1;33m(\u001b[0m\u001b[0marn\u001b[0m\u001b[1;33m)\u001b[0m\u001b[1;33m)\u001b[0m\u001b[1;33m\u001b[0m\u001b[1;33m\u001b[0m\u001b[0m\n\u001b[0m\u001b[0;32m   4132\u001b[0m \u001b[1;33m\u001b[0m\u001b[0m\n\u001b[0;32m   4133\u001b[0m \u001b[1;33m\u001b[0m\u001b[0m\n",
      "\u001b[1;31mValueError\u001b[0m: The current AWS identity is not a role: arn:aws:iam::777332035258:root, therefore it cannot be used as a SageMaker execution role"
     ]
    }
   ],
   "source": [
    "import sagemaker\n",
    "from sagemaker import get_execution_role\n",
    "\n",
    "role = get_execution_role()\n",
    "print(role)\n",
    "sess = sagemaker.Session()"
   ]
  },
  {
   "cell_type": "code",
   "execution_count": null,
   "metadata": {},
   "outputs": [],
   "source": [
    "!Python im2rec.py --resize 224 --center-crop --num-thread 4 C:\\Users\\hatem\\data\\CheXpert-v1.0-small\\CheXpert-v1.0-small\\ C:\\Users\\hatem\\data\\CheXpert-v1.0-small\\CheXpert-v1.0\n",
    "!im2rec.py --resize 224 --center-crop --num-thread 4 C:\\Users\\hatem\\data\\CheXpert-v1.0-small\\CheXpert-v1.0-small\\ C:\\Users\\hatem\\data\\CheXpert-v1.0-small\\CheXpert-v1.0"
   ]
  }
 ],
 "metadata": {
  "kernelspec": {
   "display_name": "Python 3",
   "language": "python",
   "name": "python3"
  },
  "language_info": {
   "codemirror_mode": {
    "name": "ipython",
    "version": 3
   },
   "file_extension": ".py",
   "mimetype": "text/x-python",
   "name": "python",
   "nbconvert_exporter": "python",
   "pygments_lexer": "ipython3",
   "version": "3.8.5"
  }
 },
 "nbformat": 4,
 "nbformat_minor": 4
}
