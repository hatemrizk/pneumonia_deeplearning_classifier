{
 "cells": [
  {
   "cell_type": "markdown",
   "metadata": {},
   "source": [
    "**Import Libraries**"
   ]
  },
  {
   "cell_type": "markdown",
   "metadata": {},
   "source": [
    "This sheet contains code used in analysis, extract, feature selection and transform X-Ray image set in preperation for training and validation. The Chexpert data set contains X-Ray images for 14 different classes. We are going to build an image classifier to predict presence of Pnuemonia in a given X-Ray image."
   ]
  },
  {
   "cell_type": "code",
   "execution_count": 507,
   "metadata": {},
   "outputs": [],
   "source": [
    "import pandas as pd\n",
    "import numpy as np\n",
    "import os\n",
    "import matplotlib.pyplot as plt\n",
    "import seaborn as sns\n",
    "import cv2\n",
    "from IPython.display import Image, display\n",
    "pd.set_option('display.max_colwidth', 100)"
   ]
  },
  {
   "cell_type": "markdown",
   "metadata": {},
   "source": [
    "**Read training image meta data into Pandas Dataframe**"
   ]
  },
  {
   "cell_type": "code",
   "execution_count": 508,
   "metadata": {},
   "outputs": [],
   "source": [
    "working_path = os.getcwd()\n",
    "data = pd.read_csv(working_path + '/data/train.csv')"
   ]
  },
  {
   "cell_type": "code",
   "execution_count": 509,
   "metadata": {},
   "outputs": [
    {
     "name": "stdout",
     "output_type": "stream",
     "text": [
      "Training data shape: (223414, 19)\n"
     ]
    }
   ],
   "source": [
    "print(\"Training data shape: \" + str(data.shape))"
   ]
  },
  {
   "cell_type": "code",
   "execution_count": 510,
   "metadata": {},
   "outputs": [
    {
     "name": "stdout",
     "output_type": "stream",
     "text": [
      "<class 'pandas.core.frame.DataFrame'>\n",
      "RangeIndex: 223414 entries, 0 to 223413\n",
      "Data columns (total 19 columns):\n",
      " #   Column                      Non-Null Count   Dtype  \n",
      "---  ------                      --------------   -----  \n",
      " 0   Path                        223414 non-null  object \n",
      " 1   Sex                         223414 non-null  object \n",
      " 2   Age                         223414 non-null  int64  \n",
      " 3   Frontal/Lateral             223414 non-null  object \n",
      " 4   AP/PA                       191027 non-null  object \n",
      " 5   No Finding                  22381 non-null   float64\n",
      " 6   Enlarged Cardiomediastinum  44839 non-null   float64\n",
      " 7   Cardiomegaly                46203 non-null   float64\n",
      " 8   Lung Opacity                117778 non-null  float64\n",
      " 9   Lung Lesion                 11944 non-null   float64\n",
      " 10  Edema                       85956 non-null   float64\n",
      " 11  Consolidation               70622 non-null   float64\n",
      " 12  Pneumonia                   27608 non-null   float64\n",
      " 13  Atelectasis                 68443 non-null   float64\n",
      " 14  Pneumothorax                78934 non-null   float64\n",
      " 15  Pleural Effusion            133211 non-null  float64\n",
      " 16  Pleural Other               6492 non-null    float64\n",
      " 17  Fracture                    12194 non-null   float64\n",
      " 18  Support Devices             123217 non-null  float64\n",
      "dtypes: float64(14), int64(1), object(4)\n",
      "memory usage: 32.4+ MB\n"
     ]
    }
   ],
   "source": [
    "data.info()"
   ]
  },
  {
   "cell_type": "code",
   "execution_count": 511,
   "metadata": {},
   "outputs": [],
   "source": [
    "data.rename(columns={'Frontal/Lateral': 'Frontal_Lateral', 'AP/PA': 'AP_PA'}, inplace=True)"
   ]
  },
  {
   "cell_type": "markdown",
   "metadata": {},
   "source": [
    "__Extract patient id, study number, and filename for future use__"
   ]
  },
  {
   "cell_type": "code",
   "execution_count": 512,
   "metadata": {},
   "outputs": [],
   "source": [
    "data_path = pd.DataFrame.from_records(train_df.Path.apply(lambda r: r.split('/')), columns=['set_name', 'set_type', 'patient_id', 'study_no', 'file_name'])"
   ]
  },
  {
   "cell_type": "code",
   "execution_count": 513,
   "metadata": {},
   "outputs": [
    {
     "name": "stdout",
     "output_type": "stream",
     "text": [
      "<class 'pandas.core.frame.DataFrame'>\n",
      "RangeIndex: 223414 entries, 0 to 223413\n",
      "Data columns (total 5 columns):\n",
      " #   Column      Non-Null Count   Dtype \n",
      "---  ------      --------------   ----- \n",
      " 0   set_name    223414 non-null  object\n",
      " 1   set_type    223414 non-null  object\n",
      " 2   patient_id  223414 non-null  object\n",
      " 3   study_no    223414 non-null  object\n",
      " 4   file_name   223414 non-null  object\n",
      "dtypes: object(5)\n",
      "memory usage: 8.5+ MB\n"
     ]
    }
   ],
   "source": [
    "data_path.info()"
   ]
  },
  {
   "cell_type": "markdown",
   "metadata": {},
   "source": [
    "**Merge original metadate frames with new columns with data extracted from file path**"
   ]
  },
  {
   "cell_type": "code",
   "execution_count": 514,
   "metadata": {},
   "outputs": [],
   "source": [
    "data = pd.merge(data, data_path, left_index=True, right_index=True)"
   ]
  },
  {
   "cell_type": "code",
   "execution_count": 515,
   "metadata": {},
   "outputs": [
    {
     "name": "stdout",
     "output_type": "stream",
     "text": [
      "<class 'pandas.core.frame.DataFrame'>\n",
      "RangeIndex: 223414 entries, 0 to 223413\n",
      "Data columns (total 24 columns):\n",
      " #   Column                      Non-Null Count   Dtype  \n",
      "---  ------                      --------------   -----  \n",
      " 0   Path                        223414 non-null  object \n",
      " 1   Sex                         223414 non-null  object \n",
      " 2   Age                         223414 non-null  int64  \n",
      " 3   Frontal_Lateral             223414 non-null  object \n",
      " 4   AP_PA                       191027 non-null  object \n",
      " 5   No Finding                  22381 non-null   float64\n",
      " 6   Enlarged Cardiomediastinum  44839 non-null   float64\n",
      " 7   Cardiomegaly                46203 non-null   float64\n",
      " 8   Lung Opacity                117778 non-null  float64\n",
      " 9   Lung Lesion                 11944 non-null   float64\n",
      " 10  Edema                       85956 non-null   float64\n",
      " 11  Consolidation               70622 non-null   float64\n",
      " 12  Pneumonia                   27608 non-null   float64\n",
      " 13  Atelectasis                 68443 non-null   float64\n",
      " 14  Pneumothorax                78934 non-null   float64\n",
      " 15  Pleural Effusion            133211 non-null  float64\n",
      " 16  Pleural Other               6492 non-null    float64\n",
      " 17  Fracture                    12194 non-null   float64\n",
      " 18  Support Devices             123217 non-null  float64\n",
      " 19  set_name                    223414 non-null  object \n",
      " 20  set_type                    223414 non-null  object \n",
      " 21  patient_id                  223414 non-null  object \n",
      " 22  study_no                    223414 non-null  object \n",
      " 23  file_name                   223414 non-null  object \n",
      "dtypes: float64(14), int64(1), object(9)\n",
      "memory usage: 40.9+ MB\n"
     ]
    }
   ],
   "source": [
    "data.info()"
   ]
  },
  {
   "cell_type": "markdown",
   "metadata": {},
   "source": [
    "**Compute and Display Counts of Different Classes in X-Ray Training Images**"
   ]
  },
  {
   "cell_type": "code",
   "execution_count": 516,
   "metadata": {
    "scrolled": true
   },
   "outputs": [
    {
     "data": {
      "text/html": [
       "<div>\n",
       "<style scoped>\n",
       "    .dataframe tbody tr th:only-of-type {\n",
       "        vertical-align: middle;\n",
       "    }\n",
       "\n",
       "    .dataframe tbody tr th {\n",
       "        vertical-align: top;\n",
       "    }\n",
       "\n",
       "    .dataframe thead th {\n",
       "        text-align: right;\n",
       "    }\n",
       "</style>\n",
       "<table border=\"1\" class=\"dataframe\">\n",
       "  <thead>\n",
       "    <tr style=\"text-align: right;\">\n",
       "      <th></th>\n",
       "      <th>No Finding</th>\n",
       "      <th>Enlarged Cardiomediastinum</th>\n",
       "      <th>Cardiomegaly</th>\n",
       "      <th>Lung Opacity</th>\n",
       "      <th>Lung Lesion</th>\n",
       "      <th>Edema</th>\n",
       "      <th>Consolidation</th>\n",
       "      <th>Pneumonia</th>\n",
       "      <th>Atelectasis</th>\n",
       "      <th>Pneumothorax</th>\n",
       "      <th>Pleural Effusion</th>\n",
       "      <th>Pleural Other</th>\n",
       "      <th>Fracture</th>\n",
       "    </tr>\n",
       "  </thead>\n",
       "  <tbody>\n",
       "    <tr>\n",
       "      <th>-1.0</th>\n",
       "      <td>NaN</td>\n",
       "      <td>12403.0</td>\n",
       "      <td>8087.0</td>\n",
       "      <td>5598.0</td>\n",
       "      <td>1488.0</td>\n",
       "      <td>12984.0</td>\n",
       "      <td>27742.0</td>\n",
       "      <td>18770.0</td>\n",
       "      <td>33739.0</td>\n",
       "      <td>3145.0</td>\n",
       "      <td>11628.0</td>\n",
       "      <td>2653.0</td>\n",
       "      <td>642.0</td>\n",
       "    </tr>\n",
       "    <tr>\n",
       "      <th>0</th>\n",
       "      <td>NaN</td>\n",
       "      <td>21638.0</td>\n",
       "      <td>11116.0</td>\n",
       "      <td>6599.0</td>\n",
       "      <td>1270.0</td>\n",
       "      <td>20726.0</td>\n",
       "      <td>28097.0</td>\n",
       "      <td>2799.0</td>\n",
       "      <td>1328.0</td>\n",
       "      <td>56341.0</td>\n",
       "      <td>35396.0</td>\n",
       "      <td>316.0</td>\n",
       "      <td>2512.0</td>\n",
       "    </tr>\n",
       "    <tr>\n",
       "      <th>1.0</th>\n",
       "      <td>22381.0</td>\n",
       "      <td>10798.0</td>\n",
       "      <td>27000.0</td>\n",
       "      <td>105581.0</td>\n",
       "      <td>9186.0</td>\n",
       "      <td>52246.0</td>\n",
       "      <td>14783.0</td>\n",
       "      <td>6039.0</td>\n",
       "      <td>33376.0</td>\n",
       "      <td>19448.0</td>\n",
       "      <td>86187.0</td>\n",
       "      <td>3523.0</td>\n",
       "      <td>9040.0</td>\n",
       "    </tr>\n",
       "  </tbody>\n",
       "</table>\n",
       "</div>"
      ],
      "text/plain": [
       "      No Finding  Enlarged Cardiomediastinum  Cardiomegaly  Lung Opacity  \\\n",
       "-1.0         NaN                     12403.0        8087.0        5598.0   \n",
       "0            NaN                     21638.0       11116.0        6599.0   \n",
       "1.0      22381.0                     10798.0       27000.0      105581.0   \n",
       "\n",
       "      Lung Lesion    Edema  Consolidation  Pneumonia  Atelectasis  \\\n",
       "-1.0       1488.0  12984.0        27742.0    18770.0      33739.0   \n",
       "0          1270.0  20726.0        28097.0     2799.0       1328.0   \n",
       "1.0        9186.0  52246.0        14783.0     6039.0      33376.0   \n",
       "\n",
       "      Pneumothorax  Pleural Effusion  Pleural Other  Fracture  \n",
       "-1.0        3145.0           11628.0         2653.0     642.0  \n",
       "0          56341.0           35396.0          316.0    2512.0  \n",
       "1.0        19448.0           86187.0         3523.0    9040.0  "
      ]
     },
     "execution_count": 516,
     "metadata": {},
     "output_type": "execute_result"
    }
   ],
   "source": [
    "data.apply(pd.Series.value_counts).iloc[0:3,5:18]"
   ]
  },
  {
   "cell_type": "markdown",
   "metadata": {},
   "source": [
    "**Compute and Display Counts of Different Classes in X-Ray Test Images**"
   ]
  },
  {
   "cell_type": "markdown",
   "metadata": {},
   "source": [
    "**Drop unused class labels**"
   ]
  },
  {
   "cell_type": "markdown",
   "metadata": {},
   "source": [
    "**Remove lateral X-Ray images which are insignificant and spare**"
   ]
  },
  {
   "cell_type": "code",
   "execution_count": 517,
   "metadata": {},
   "outputs": [
    {
     "data": {
      "text/html": [
       "<div>\n",
       "<style scoped>\n",
       "    .dataframe tbody tr th:only-of-type {\n",
       "        vertical-align: middle;\n",
       "    }\n",
       "\n",
       "    .dataframe tbody tr th {\n",
       "        vertical-align: top;\n",
       "    }\n",
       "\n",
       "    .dataframe thead th {\n",
       "        text-align: right;\n",
       "    }\n",
       "</style>\n",
       "<table border=\"1\" class=\"dataframe\">\n",
       "  <thead>\n",
       "    <tr style=\"text-align: right;\">\n",
       "      <th></th>\n",
       "      <th>Age</th>\n",
       "      <th>Enlarged Cardiomediastinum</th>\n",
       "      <th>Cardiomegaly</th>\n",
       "      <th>Lung Opacity</th>\n",
       "      <th>Lung Lesion</th>\n",
       "      <th>Edema</th>\n",
       "      <th>Consolidation</th>\n",
       "      <th>Pneumonia</th>\n",
       "      <th>Atelectasis</th>\n",
       "      <th>Pneumothorax</th>\n",
       "      <th>Pleural Effusion</th>\n",
       "      <th>Pleural Other</th>\n",
       "      <th>Fracture</th>\n",
       "      <th>Support Devices</th>\n",
       "    </tr>\n",
       "    <tr>\n",
       "      <th>No Finding</th>\n",
       "      <th></th>\n",
       "      <th></th>\n",
       "      <th></th>\n",
       "      <th></th>\n",
       "      <th></th>\n",
       "      <th></th>\n",
       "      <th></th>\n",
       "      <th></th>\n",
       "      <th></th>\n",
       "      <th></th>\n",
       "      <th></th>\n",
       "      <th></th>\n",
       "      <th></th>\n",
       "      <th></th>\n",
       "    </tr>\n",
       "  </thead>\n",
       "  <tbody>\n",
       "    <tr>\n",
       "      <th>1.0</th>\n",
       "      <td>1139827</td>\n",
       "      <td>0.0</td>\n",
       "      <td>0.0</td>\n",
       "      <td>0.0</td>\n",
       "      <td>0.0</td>\n",
       "      <td>0.0</td>\n",
       "      <td>0.0</td>\n",
       "      <td>0.0</td>\n",
       "      <td>0.0</td>\n",
       "      <td>0.0</td>\n",
       "      <td>0.0</td>\n",
       "      <td>0.0</td>\n",
       "      <td>0.0</td>\n",
       "      <td>8698.0</td>\n",
       "    </tr>\n",
       "  </tbody>\n",
       "</table>\n",
       "</div>"
      ],
      "text/plain": [
       "                Age  Enlarged Cardiomediastinum  Cardiomegaly  Lung Opacity  \\\n",
       "No Finding                                                                    \n",
       "1.0         1139827                         0.0           0.0           0.0   \n",
       "\n",
       "            Lung Lesion  Edema  Consolidation  Pneumonia  Atelectasis  \\\n",
       "No Finding                                                              \n",
       "1.0                 0.0    0.0            0.0        0.0          0.0   \n",
       "\n",
       "            Pneumothorax  Pleural Effusion  Pleural Other  Fracture  \\\n",
       "No Finding                                                            \n",
       "1.0                  0.0               0.0            0.0       0.0   \n",
       "\n",
       "            Support Devices  \n",
       "No Finding                   \n",
       "1.0                  8698.0  "
      ]
     },
     "execution_count": 517,
     "metadata": {},
     "output_type": "execute_result"
    }
   ],
   "source": [
    "data.groupby(['No Finding']).sum()"
   ]
  },
  {
   "cell_type": "code",
   "execution_count": 518,
   "metadata": {},
   "outputs": [
    {
     "data": {
      "text/html": [
       "<div>\n",
       "<style scoped>\n",
       "    .dataframe tbody tr th:only-of-type {\n",
       "        vertical-align: middle;\n",
       "    }\n",
       "\n",
       "    .dataframe tbody tr th {\n",
       "        vertical-align: top;\n",
       "    }\n",
       "\n",
       "    .dataframe thead th {\n",
       "        text-align: right;\n",
       "    }\n",
       "</style>\n",
       "<table border=\"1\" class=\"dataframe\">\n",
       "  <thead>\n",
       "    <tr style=\"text-align: right;\">\n",
       "      <th></th>\n",
       "      <th>Age</th>\n",
       "      <th>No Finding</th>\n",
       "      <th>Enlarged Cardiomediastinum</th>\n",
       "      <th>Cardiomegaly</th>\n",
       "      <th>Lung Opacity</th>\n",
       "      <th>Lung Lesion</th>\n",
       "      <th>Edema</th>\n",
       "      <th>Consolidation</th>\n",
       "      <th>Atelectasis</th>\n",
       "      <th>Pneumothorax</th>\n",
       "      <th>Pleural Effusion</th>\n",
       "      <th>Pleural Other</th>\n",
       "      <th>Fracture</th>\n",
       "      <th>Support Devices</th>\n",
       "    </tr>\n",
       "    <tr>\n",
       "      <th>Pneumonia</th>\n",
       "      <th></th>\n",
       "      <th></th>\n",
       "      <th></th>\n",
       "      <th></th>\n",
       "      <th></th>\n",
       "      <th></th>\n",
       "      <th></th>\n",
       "      <th></th>\n",
       "      <th></th>\n",
       "      <th></th>\n",
       "      <th></th>\n",
       "      <th></th>\n",
       "      <th></th>\n",
       "      <th></th>\n",
       "    </tr>\n",
       "  </thead>\n",
       "  <tbody>\n",
       "    <tr>\n",
       "      <th>-1.0</th>\n",
       "      <td>1185042</td>\n",
       "      <td>0.0</td>\n",
       "      <td>-265.0</td>\n",
       "      <td>1298.0</td>\n",
       "      <td>14841.0</td>\n",
       "      <td>753.0</td>\n",
       "      <td>-908.0</td>\n",
       "      <td>1460.0</td>\n",
       "      <td>-4622.0</td>\n",
       "      <td>641.0</td>\n",
       "      <td>6147.0</td>\n",
       "      <td>86.0</td>\n",
       "      <td>469.0</td>\n",
       "      <td>7601.0</td>\n",
       "    </tr>\n",
       "    <tr>\n",
       "      <th>0.0</th>\n",
       "      <td>167198</td>\n",
       "      <td>1158.0</td>\n",
       "      <td>-8.0</td>\n",
       "      <td>138.0</td>\n",
       "      <td>535.0</td>\n",
       "      <td>113.0</td>\n",
       "      <td>103.0</td>\n",
       "      <td>-2.0</td>\n",
       "      <td>71.0</td>\n",
       "      <td>20.0</td>\n",
       "      <td>189.0</td>\n",
       "      <td>18.0</td>\n",
       "      <td>98.0</td>\n",
       "      <td>566.0</td>\n",
       "    </tr>\n",
       "    <tr>\n",
       "      <th>1.0</th>\n",
       "      <td>373337</td>\n",
       "      <td>0.0</td>\n",
       "      <td>-146.0</td>\n",
       "      <td>351.0</td>\n",
       "      <td>3793.0</td>\n",
       "      <td>390.0</td>\n",
       "      <td>729.0</td>\n",
       "      <td>469.0</td>\n",
       "      <td>-168.0</td>\n",
       "      <td>115.0</td>\n",
       "      <td>1462.0</td>\n",
       "      <td>55.0</td>\n",
       "      <td>136.0</td>\n",
       "      <td>1752.0</td>\n",
       "    </tr>\n",
       "  </tbody>\n",
       "</table>\n",
       "</div>"
      ],
      "text/plain": [
       "               Age  No Finding  Enlarged Cardiomediastinum  Cardiomegaly  \\\n",
       "Pneumonia                                                                  \n",
       "-1.0       1185042         0.0                      -265.0        1298.0   \n",
       " 0.0        167198      1158.0                        -8.0         138.0   \n",
       " 1.0        373337         0.0                      -146.0         351.0   \n",
       "\n",
       "           Lung Opacity  Lung Lesion  Edema  Consolidation  Atelectasis  \\\n",
       "Pneumonia                                                                 \n",
       "-1.0            14841.0        753.0 -908.0         1460.0      -4622.0   \n",
       " 0.0              535.0        113.0  103.0           -2.0         71.0   \n",
       " 1.0             3793.0        390.0  729.0          469.0       -168.0   \n",
       "\n",
       "           Pneumothorax  Pleural Effusion  Pleural Other  Fracture  \\\n",
       "Pneumonia                                                            \n",
       "-1.0              641.0            6147.0           86.0     469.0   \n",
       " 0.0               20.0             189.0           18.0      98.0   \n",
       " 1.0              115.0            1462.0           55.0     136.0   \n",
       "\n",
       "           Support Devices  \n",
       "Pneumonia                   \n",
       "-1.0                7601.0  \n",
       " 0.0                 566.0  \n",
       " 1.0                1752.0  "
      ]
     },
     "execution_count": 518,
     "metadata": {},
     "output_type": "execute_result"
    }
   ],
   "source": [
    "data.groupby(['Pneumonia']).sum()"
   ]
  },
  {
   "cell_type": "code",
   "execution_count": 519,
   "metadata": {},
   "outputs": [],
   "source": [
    "data_no_finding = data[data['No Finding']==1.0].copy().reset_index(drop=True)"
   ]
  },
  {
   "cell_type": "code",
   "execution_count": 520,
   "metadata": {},
   "outputs": [
    {
     "data": {
      "text/html": [
       "<div>\n",
       "<style scoped>\n",
       "    .dataframe tbody tr th:only-of-type {\n",
       "        vertical-align: middle;\n",
       "    }\n",
       "\n",
       "    .dataframe tbody tr th {\n",
       "        vertical-align: top;\n",
       "    }\n",
       "\n",
       "    .dataframe thead th {\n",
       "        text-align: right;\n",
       "    }\n",
       "</style>\n",
       "<table border=\"1\" class=\"dataframe\">\n",
       "  <thead>\n",
       "    <tr style=\"text-align: right;\">\n",
       "      <th></th>\n",
       "      <th>No Finding</th>\n",
       "      <th>Enlarged Cardiomediastinum</th>\n",
       "      <th>Cardiomegaly</th>\n",
       "      <th>Lung Opacity</th>\n",
       "      <th>Lung Lesion</th>\n",
       "      <th>Edema</th>\n",
       "      <th>Consolidation</th>\n",
       "      <th>Pneumonia</th>\n",
       "      <th>Atelectasis</th>\n",
       "      <th>Pneumothorax</th>\n",
       "      <th>Pleural Effusion</th>\n",
       "      <th>Pleural Other</th>\n",
       "      <th>Fracture</th>\n",
       "    </tr>\n",
       "  </thead>\n",
       "  <tbody>\n",
       "    <tr>\n",
       "      <th>-1.0</th>\n",
       "      <td>NaN</td>\n",
       "      <td>NaN</td>\n",
       "      <td>NaN</td>\n",
       "      <td>NaN</td>\n",
       "      <td>NaN</td>\n",
       "      <td>NaN</td>\n",
       "      <td>NaN</td>\n",
       "      <td>NaN</td>\n",
       "      <td>NaN</td>\n",
       "      <td>NaN</td>\n",
       "      <td>NaN</td>\n",
       "      <td>NaN</td>\n",
       "      <td>NaN</td>\n",
       "    </tr>\n",
       "    <tr>\n",
       "      <th>0</th>\n",
       "      <td>NaN</td>\n",
       "      <td>8394.0</td>\n",
       "      <td>3350.0</td>\n",
       "      <td>2421.0</td>\n",
       "      <td>377.0</td>\n",
       "      <td>4461.0</td>\n",
       "      <td>8836.0</td>\n",
       "      <td>1158.0</td>\n",
       "      <td>483.0</td>\n",
       "      <td>13411.0</td>\n",
       "      <td>11450.0</td>\n",
       "      <td>20.0</td>\n",
       "      <td>1091.0</td>\n",
       "    </tr>\n",
       "    <tr>\n",
       "      <th>1.0</th>\n",
       "      <td>22381.0</td>\n",
       "      <td>NaN</td>\n",
       "      <td>NaN</td>\n",
       "      <td>NaN</td>\n",
       "      <td>NaN</td>\n",
       "      <td>NaN</td>\n",
       "      <td>NaN</td>\n",
       "      <td>NaN</td>\n",
       "      <td>NaN</td>\n",
       "      <td>NaN</td>\n",
       "      <td>NaN</td>\n",
       "      <td>NaN</td>\n",
       "      <td>NaN</td>\n",
       "    </tr>\n",
       "  </tbody>\n",
       "</table>\n",
       "</div>"
      ],
      "text/plain": [
       "      No Finding  Enlarged Cardiomediastinum  Cardiomegaly  Lung Opacity  \\\n",
       "-1.0         NaN                         NaN           NaN           NaN   \n",
       "0            NaN                      8394.0        3350.0        2421.0   \n",
       "1.0      22381.0                         NaN           NaN           NaN   \n",
       "\n",
       "      Lung Lesion   Edema  Consolidation  Pneumonia  Atelectasis  \\\n",
       "-1.0          NaN     NaN            NaN        NaN          NaN   \n",
       "0           377.0  4461.0         8836.0     1158.0        483.0   \n",
       "1.0           NaN     NaN            NaN        NaN          NaN   \n",
       "\n",
       "      Pneumothorax  Pleural Effusion  Pleural Other  Fracture  \n",
       "-1.0           NaN               NaN            NaN       NaN  \n",
       "0          13411.0           11450.0           20.0    1091.0  \n",
       "1.0            NaN               NaN            NaN       NaN  "
      ]
     },
     "execution_count": 520,
     "metadata": {},
     "output_type": "execute_result"
    }
   ],
   "source": [
    "data_no_finding.apply(pd.Series.value_counts).iloc[0:3,5:18]"
   ]
  },
  {
   "cell_type": "code",
   "execution_count": 521,
   "metadata": {},
   "outputs": [],
   "source": [
    "drop_class_labels = ['Pneumonia', 'Enlarged Cardiomediastinum', 'Cardiomegaly', 'Lung Opacity', \n",
    "                      'Lung Lesion', 'Edema','Consolidation', 'Atelectasis', 'Pneumothorax', \n",
    "                      'Pleural Effusion', 'Pleural Other', 'Fracture', 'Support Devices']\n",
    "data_no_finding.drop(drop_class_labels, inplace=True, axis=1)"
   ]
  },
  {
   "cell_type": "code",
   "execution_count": 522,
   "metadata": {},
   "outputs": [],
   "source": [
    "data_no_finding = data_no_finding.dropna()"
   ]
  },
  {
   "cell_type": "code",
   "execution_count": 523,
   "metadata": {},
   "outputs": [
    {
     "name": "stdout",
     "output_type": "stream",
     "text": [
      "<class 'pandas.core.frame.DataFrame'>\n",
      "Int64Index: 16974 entries, 0 to 22380\n",
      "Data columns (total 11 columns):\n",
      " #   Column           Non-Null Count  Dtype  \n",
      "---  ------           --------------  -----  \n",
      " 0   Path             16974 non-null  object \n",
      " 1   Sex              16974 non-null  object \n",
      " 2   Age              16974 non-null  int64  \n",
      " 3   Frontal_Lateral  16974 non-null  object \n",
      " 4   AP_PA            16974 non-null  object \n",
      " 5   No Finding       16974 non-null  float64\n",
      " 6   set_name         16974 non-null  object \n",
      " 7   set_type         16974 non-null  object \n",
      " 8   patient_id       16974 non-null  object \n",
      " 9   study_no         16974 non-null  object \n",
      " 10  file_name        16974 non-null  object \n",
      "dtypes: float64(1), int64(1), object(9)\n",
      "memory usage: 1.6+ MB\n"
     ]
    }
   ],
   "source": [
    "data_no_finding.info()"
   ]
  },
  {
   "cell_type": "code",
   "execution_count": 524,
   "metadata": {},
   "outputs": [],
   "source": [
    "data_no_finding['No Finding']=0"
   ]
  },
  {
   "cell_type": "code",
   "execution_count": 525,
   "metadata": {},
   "outputs": [],
   "source": [
    "data_no_finding.columns=['Path', 'Sex', 'Age', 'Frontal_Lateral', 'AP_PA', 'Class',\n",
    "       'set_name', 'set_type', 'patient_id', 'study_no', 'file_name']"
   ]
  },
  {
   "cell_type": "code",
   "execution_count": 526,
   "metadata": {},
   "outputs": [
    {
     "data": {
      "text/html": [
       "<div>\n",
       "<style scoped>\n",
       "    .dataframe tbody tr th:only-of-type {\n",
       "        vertical-align: middle;\n",
       "    }\n",
       "\n",
       "    .dataframe tbody tr th {\n",
       "        vertical-align: top;\n",
       "    }\n",
       "\n",
       "    .dataframe thead th {\n",
       "        text-align: right;\n",
       "    }\n",
       "</style>\n",
       "<table border=\"1\" class=\"dataframe\">\n",
       "  <thead>\n",
       "    <tr style=\"text-align: right;\">\n",
       "      <th></th>\n",
       "      <th>Path</th>\n",
       "      <th>Sex</th>\n",
       "      <th>Age</th>\n",
       "      <th>Frontal_Lateral</th>\n",
       "      <th>AP_PA</th>\n",
       "      <th>Class</th>\n",
       "      <th>set_name</th>\n",
       "      <th>set_type</th>\n",
       "      <th>patient_id</th>\n",
       "      <th>study_no</th>\n",
       "      <th>file_name</th>\n",
       "    </tr>\n",
       "  </thead>\n",
       "  <tbody>\n",
       "    <tr>\n",
       "      <th>0</th>\n",
       "      <td>CheXpert-v1.0-small/train/patient00001/study1/view1_frontal.jpg</td>\n",
       "      <td>Female</td>\n",
       "      <td>68</td>\n",
       "      <td>Frontal</td>\n",
       "      <td>AP</td>\n",
       "      <td>0</td>\n",
       "      <td>CheXpert-v1.0-small</td>\n",
       "      <td>train</td>\n",
       "      <td>patient00001</td>\n",
       "      <td>study1</td>\n",
       "      <td>view1_frontal.jpg</td>\n",
       "    </tr>\n",
       "    <tr>\n",
       "      <th>1</th>\n",
       "      <td>CheXpert-v1.0-small/train/patient00004/study1/view1_frontal.jpg</td>\n",
       "      <td>Female</td>\n",
       "      <td>20</td>\n",
       "      <td>Frontal</td>\n",
       "      <td>PA</td>\n",
       "      <td>0</td>\n",
       "      <td>CheXpert-v1.0-small</td>\n",
       "      <td>train</td>\n",
       "      <td>patient00004</td>\n",
       "      <td>study1</td>\n",
       "      <td>view1_frontal.jpg</td>\n",
       "    </tr>\n",
       "    <tr>\n",
       "      <th>3</th>\n",
       "      <td>CheXpert-v1.0-small/train/patient00005/study1/view1_frontal.jpg</td>\n",
       "      <td>Male</td>\n",
       "      <td>33</td>\n",
       "      <td>Frontal</td>\n",
       "      <td>PA</td>\n",
       "      <td>0</td>\n",
       "      <td>CheXpert-v1.0-small</td>\n",
       "      <td>train</td>\n",
       "      <td>patient00005</td>\n",
       "      <td>study1</td>\n",
       "      <td>view1_frontal.jpg</td>\n",
       "    </tr>\n",
       "    <tr>\n",
       "      <th>5</th>\n",
       "      <td>CheXpert-v1.0-small/train/patient00006/study1/view1_frontal.jpg</td>\n",
       "      <td>Female</td>\n",
       "      <td>42</td>\n",
       "      <td>Frontal</td>\n",
       "      <td>AP</td>\n",
       "      <td>0</td>\n",
       "      <td>CheXpert-v1.0-small</td>\n",
       "      <td>train</td>\n",
       "      <td>patient00006</td>\n",
       "      <td>study1</td>\n",
       "      <td>view1_frontal.jpg</td>\n",
       "    </tr>\n",
       "    <tr>\n",
       "      <th>6</th>\n",
       "      <td>CheXpert-v1.0-small/train/patient00010/study1/view1_frontal.jpg</td>\n",
       "      <td>Female</td>\n",
       "      <td>50</td>\n",
       "      <td>Frontal</td>\n",
       "      <td>PA</td>\n",
       "      <td>0</td>\n",
       "      <td>CheXpert-v1.0-small</td>\n",
       "      <td>train</td>\n",
       "      <td>patient00010</td>\n",
       "      <td>study1</td>\n",
       "      <td>view1_frontal.jpg</td>\n",
       "    </tr>\n",
       "  </tbody>\n",
       "</table>\n",
       "</div>"
      ],
      "text/plain": [
       "                                                              Path     Sex  \\\n",
       "0  CheXpert-v1.0-small/train/patient00001/study1/view1_frontal.jpg  Female   \n",
       "1  CheXpert-v1.0-small/train/patient00004/study1/view1_frontal.jpg  Female   \n",
       "3  CheXpert-v1.0-small/train/patient00005/study1/view1_frontal.jpg    Male   \n",
       "5  CheXpert-v1.0-small/train/patient00006/study1/view1_frontal.jpg  Female   \n",
       "6  CheXpert-v1.0-small/train/patient00010/study1/view1_frontal.jpg  Female   \n",
       "\n",
       "   Age Frontal_Lateral AP_PA  Class             set_name set_type  \\\n",
       "0   68         Frontal    AP      0  CheXpert-v1.0-small    train   \n",
       "1   20         Frontal    PA      0  CheXpert-v1.0-small    train   \n",
       "3   33         Frontal    PA      0  CheXpert-v1.0-small    train   \n",
       "5   42         Frontal    AP      0  CheXpert-v1.0-small    train   \n",
       "6   50         Frontal    PA      0  CheXpert-v1.0-small    train   \n",
       "\n",
       "     patient_id study_no          file_name  \n",
       "0  patient00001   study1  view1_frontal.jpg  \n",
       "1  patient00004   study1  view1_frontal.jpg  \n",
       "3  patient00005   study1  view1_frontal.jpg  \n",
       "5  patient00006   study1  view1_frontal.jpg  \n",
       "6  patient00010   study1  view1_frontal.jpg  "
      ]
     },
     "execution_count": 526,
     "metadata": {},
     "output_type": "execute_result"
    }
   ],
   "source": [
    "data_no_finding.head()"
   ]
  },
  {
   "cell_type": "code",
   "execution_count": 527,
   "metadata": {},
   "outputs": [],
   "source": [
    "data_pneumonia = data[data['Pneumonia']==1.0].copy().reset_index(drop=True)\n",
    "#data_pneumonia = data[(data['Pneumonia']==1.0) & \n",
    "#                      (data['Enlarged Cardiomediastinum']!=1.0) &\n",
    "#                      (data['Cardiomegaly']!=1.0) &\n",
    "#                     (data['Lung Opacity']!=1.0) &\n",
    "#                      (data['Lung Lesion']!=1.0) &\n",
    "#                      (data['Edema']!=1.0) &\n",
    "#                      (data['Consolidation']!=1.0) &\n",
    "#                      (data['Atelectasis']!=1.0) &\n",
    "#                      (data['Pneumothorax']!=1.0) &    \n",
    "#                      (data['Pleural Effusion']!=1.0) &\n",
    "#                      (data['Pleural Other']!=1.0) &    \n",
    "#                      (data['Fracture']!=1.0)]"
   ]
  },
  {
   "cell_type": "code",
   "execution_count": 528,
   "metadata": {},
   "outputs": [
    {
     "data": {
      "text/html": [
       "<div>\n",
       "<style scoped>\n",
       "    .dataframe tbody tr th:only-of-type {\n",
       "        vertical-align: middle;\n",
       "    }\n",
       "\n",
       "    .dataframe tbody tr th {\n",
       "        vertical-align: top;\n",
       "    }\n",
       "\n",
       "    .dataframe thead th {\n",
       "        text-align: right;\n",
       "    }\n",
       "</style>\n",
       "<table border=\"1\" class=\"dataframe\">\n",
       "  <thead>\n",
       "    <tr style=\"text-align: right;\">\n",
       "      <th></th>\n",
       "      <th>No Finding</th>\n",
       "      <th>Enlarged Cardiomediastinum</th>\n",
       "      <th>Cardiomegaly</th>\n",
       "      <th>Lung Opacity</th>\n",
       "      <th>Lung Lesion</th>\n",
       "      <th>Edema</th>\n",
       "      <th>Consolidation</th>\n",
       "      <th>Pneumonia</th>\n",
       "      <th>Atelectasis</th>\n",
       "      <th>Pneumothorax</th>\n",
       "      <th>Pleural Effusion</th>\n",
       "      <th>Pleural Other</th>\n",
       "      <th>Fracture</th>\n",
       "    </tr>\n",
       "  </thead>\n",
       "  <tbody>\n",
       "    <tr>\n",
       "      <th>-1.0</th>\n",
       "      <td>NaN</td>\n",
       "      <td>296.0</td>\n",
       "      <td>144.0</td>\n",
       "      <td>232.0</td>\n",
       "      <td>64.0</td>\n",
       "      <td>475.0</td>\n",
       "      <td>545.0</td>\n",
       "      <td>NaN</td>\n",
       "      <td>783.0</td>\n",
       "      <td>31.0</td>\n",
       "      <td>271.0</td>\n",
       "      <td>68.0</td>\n",
       "      <td>5.0</td>\n",
       "    </tr>\n",
       "    <tr>\n",
       "      <th>0.0</th>\n",
       "      <td>NaN</td>\n",
       "      <td>439.0</td>\n",
       "      <td>172.0</td>\n",
       "      <td>129.0</td>\n",
       "      <td>42.0</td>\n",
       "      <td>294.0</td>\n",
       "      <td>528.0</td>\n",
       "      <td>NaN</td>\n",
       "      <td>17.0</td>\n",
       "      <td>571.0</td>\n",
       "      <td>522.0</td>\n",
       "      <td>27.0</td>\n",
       "      <td>23.0</td>\n",
       "    </tr>\n",
       "    <tr>\n",
       "      <th>1.0</th>\n",
       "      <td>NaN</td>\n",
       "      <td>150.0</td>\n",
       "      <td>495.0</td>\n",
       "      <td>4025.0</td>\n",
       "      <td>454.0</td>\n",
       "      <td>1204.0</td>\n",
       "      <td>1014.0</td>\n",
       "      <td>6039.0</td>\n",
       "      <td>615.0</td>\n",
       "      <td>146.0</td>\n",
       "      <td>1733.0</td>\n",
       "      <td>123.0</td>\n",
       "      <td>141.0</td>\n",
       "    </tr>\n",
       "  </tbody>\n",
       "</table>\n",
       "</div>"
      ],
      "text/plain": [
       "      No Finding  Enlarged Cardiomediastinum  Cardiomegaly  Lung Opacity  \\\n",
       "-1.0         NaN                       296.0         144.0         232.0   \n",
       " 0.0         NaN                       439.0         172.0         129.0   \n",
       " 1.0         NaN                       150.0         495.0        4025.0   \n",
       "\n",
       "      Lung Lesion   Edema  Consolidation  Pneumonia  Atelectasis  \\\n",
       "-1.0         64.0   475.0          545.0        NaN        783.0   \n",
       " 0.0         42.0   294.0          528.0        NaN         17.0   \n",
       " 1.0        454.0  1204.0         1014.0     6039.0        615.0   \n",
       "\n",
       "      Pneumothorax  Pleural Effusion  Pleural Other  Fracture  \n",
       "-1.0          31.0             271.0           68.0       5.0  \n",
       " 0.0         571.0             522.0           27.0      23.0  \n",
       " 1.0         146.0            1733.0          123.0     141.0  "
      ]
     },
     "execution_count": 528,
     "metadata": {},
     "output_type": "execute_result"
    }
   ],
   "source": [
    "data_pneumonia.apply(pd.Series.value_counts).iloc[0:3,5:18]"
   ]
  },
  {
   "cell_type": "code",
   "execution_count": 529,
   "metadata": {},
   "outputs": [
    {
     "data": {
      "text/plain": [
       "1.0    6039\n",
       "Name: Pneumonia, dtype: int64"
      ]
     },
     "execution_count": 529,
     "metadata": {},
     "output_type": "execute_result"
    }
   ],
   "source": [
    "data_pneumonia['Pneumonia'].value_counts()"
   ]
  },
  {
   "cell_type": "code",
   "execution_count": 530,
   "metadata": {},
   "outputs": [],
   "source": [
    "drop_class_labels = ['No Finding', 'Enlarged Cardiomediastinum', 'Cardiomegaly', 'Lung Opacity', \n",
    "                      'Lung Lesion', 'Edema','Consolidation', 'Atelectasis', 'Pneumothorax', \n",
    "                      'Pleural Effusion', 'Pleural Other', 'Fracture', 'Support Devices']\n",
    "data_pneumonia.drop(drop_class_labels, inplace=True, axis=1)"
   ]
  },
  {
   "cell_type": "code",
   "execution_count": 531,
   "metadata": {},
   "outputs": [],
   "source": [
    "data_pneumonia.columns=['Path', 'Sex', 'Age', 'Frontal_Lateral', 'AP_PA', 'Class',\n",
    "       'set_name', 'set_type', 'patient_id', 'study_no', 'file_name']"
   ]
  },
  {
   "cell_type": "code",
   "execution_count": 532,
   "metadata": {},
   "outputs": [
    {
     "data": {
      "text/html": [
       "<div>\n",
       "<style scoped>\n",
       "    .dataframe tbody tr th:only-of-type {\n",
       "        vertical-align: middle;\n",
       "    }\n",
       "\n",
       "    .dataframe tbody tr th {\n",
       "        vertical-align: top;\n",
       "    }\n",
       "\n",
       "    .dataframe thead th {\n",
       "        text-align: right;\n",
       "    }\n",
       "</style>\n",
       "<table border=\"1\" class=\"dataframe\">\n",
       "  <thead>\n",
       "    <tr style=\"text-align: right;\">\n",
       "      <th></th>\n",
       "      <th>Path</th>\n",
       "      <th>Sex</th>\n",
       "      <th>Age</th>\n",
       "      <th>Frontal_Lateral</th>\n",
       "      <th>AP_PA</th>\n",
       "      <th>Class</th>\n",
       "      <th>set_name</th>\n",
       "      <th>set_type</th>\n",
       "      <th>patient_id</th>\n",
       "      <th>study_no</th>\n",
       "      <th>file_name</th>\n",
       "    </tr>\n",
       "  </thead>\n",
       "  <tbody>\n",
       "    <tr>\n",
       "      <th>0</th>\n",
       "      <td>CheXpert-v1.0-small/train/patient00085/study1/view1_frontal.jpg</td>\n",
       "      <td>Male</td>\n",
       "      <td>88</td>\n",
       "      <td>Frontal</td>\n",
       "      <td>AP</td>\n",
       "      <td>1.0</td>\n",
       "      <td>CheXpert-v1.0-small</td>\n",
       "      <td>train</td>\n",
       "      <td>patient00085</td>\n",
       "      <td>study1</td>\n",
       "      <td>view1_frontal.jpg</td>\n",
       "    </tr>\n",
       "    <tr>\n",
       "      <th>1</th>\n",
       "      <td>CheXpert-v1.0-small/train/patient00086/study1/view1_frontal.jpg</td>\n",
       "      <td>Female</td>\n",
       "      <td>77</td>\n",
       "      <td>Frontal</td>\n",
       "      <td>AP</td>\n",
       "      <td>1.0</td>\n",
       "      <td>CheXpert-v1.0-small</td>\n",
       "      <td>train</td>\n",
       "      <td>patient00086</td>\n",
       "      <td>study1</td>\n",
       "      <td>view1_frontal.jpg</td>\n",
       "    </tr>\n",
       "    <tr>\n",
       "      <th>2</th>\n",
       "      <td>CheXpert-v1.0-small/train/patient00112/study1/view1_frontal.jpg</td>\n",
       "      <td>Male</td>\n",
       "      <td>35</td>\n",
       "      <td>Frontal</td>\n",
       "      <td>PA</td>\n",
       "      <td>1.0</td>\n",
       "      <td>CheXpert-v1.0-small</td>\n",
       "      <td>train</td>\n",
       "      <td>patient00112</td>\n",
       "      <td>study1</td>\n",
       "      <td>view1_frontal.jpg</td>\n",
       "    </tr>\n",
       "    <tr>\n",
       "      <th>3</th>\n",
       "      <td>CheXpert-v1.0-small/train/patient00112/study1/view2_lateral.jpg</td>\n",
       "      <td>Male</td>\n",
       "      <td>35</td>\n",
       "      <td>Lateral</td>\n",
       "      <td>NaN</td>\n",
       "      <td>1.0</td>\n",
       "      <td>CheXpert-v1.0-small</td>\n",
       "      <td>train</td>\n",
       "      <td>patient00112</td>\n",
       "      <td>study1</td>\n",
       "      <td>view2_lateral.jpg</td>\n",
       "    </tr>\n",
       "    <tr>\n",
       "      <th>4</th>\n",
       "      <td>CheXpert-v1.0-small/train/patient00114/study15/view1_frontal.jpg</td>\n",
       "      <td>Male</td>\n",
       "      <td>55</td>\n",
       "      <td>Frontal</td>\n",
       "      <td>AP</td>\n",
       "      <td>1.0</td>\n",
       "      <td>CheXpert-v1.0-small</td>\n",
       "      <td>train</td>\n",
       "      <td>patient00114</td>\n",
       "      <td>study15</td>\n",
       "      <td>view1_frontal.jpg</td>\n",
       "    </tr>\n",
       "  </tbody>\n",
       "</table>\n",
       "</div>"
      ],
      "text/plain": [
       "                                                               Path     Sex  \\\n",
       "0   CheXpert-v1.0-small/train/patient00085/study1/view1_frontal.jpg    Male   \n",
       "1   CheXpert-v1.0-small/train/patient00086/study1/view1_frontal.jpg  Female   \n",
       "2   CheXpert-v1.0-small/train/patient00112/study1/view1_frontal.jpg    Male   \n",
       "3   CheXpert-v1.0-small/train/patient00112/study1/view2_lateral.jpg    Male   \n",
       "4  CheXpert-v1.0-small/train/patient00114/study15/view1_frontal.jpg    Male   \n",
       "\n",
       "   Age Frontal_Lateral AP_PA  Class             set_name set_type  \\\n",
       "0   88         Frontal    AP    1.0  CheXpert-v1.0-small    train   \n",
       "1   77         Frontal    AP    1.0  CheXpert-v1.0-small    train   \n",
       "2   35         Frontal    PA    1.0  CheXpert-v1.0-small    train   \n",
       "3   35         Lateral   NaN    1.0  CheXpert-v1.0-small    train   \n",
       "4   55         Frontal    AP    1.0  CheXpert-v1.0-small    train   \n",
       "\n",
       "     patient_id study_no          file_name  \n",
       "0  patient00085   study1  view1_frontal.jpg  \n",
       "1  patient00086   study1  view1_frontal.jpg  \n",
       "2  patient00112   study1  view1_frontal.jpg  \n",
       "3  patient00112   study1  view2_lateral.jpg  \n",
       "4  patient00114  study15  view1_frontal.jpg  "
      ]
     },
     "execution_count": 532,
     "metadata": {},
     "output_type": "execute_result"
    }
   ],
   "source": [
    "data_pneumonia.head()"
   ]
  },
  {
   "cell_type": "code",
   "execution_count": 533,
   "metadata": {},
   "outputs": [
    {
     "name": "stdout",
     "output_type": "stream",
     "text": [
      "<class 'pandas.core.frame.DataFrame'>\n",
      "RangeIndex: 6039 entries, 0 to 6038\n",
      "Data columns (total 11 columns):\n",
      " #   Column           Non-Null Count  Dtype  \n",
      "---  ------           --------------  -----  \n",
      " 0   Path             6039 non-null   object \n",
      " 1   Sex              6039 non-null   object \n",
      " 2   Age              6039 non-null   int64  \n",
      " 3   Frontal_Lateral  6039 non-null   object \n",
      " 4   AP_PA            4675 non-null   object \n",
      " 5   Class            6039 non-null   float64\n",
      " 6   set_name         6039 non-null   object \n",
      " 7   set_type         6039 non-null   object \n",
      " 8   patient_id       6039 non-null   object \n",
      " 9   study_no         6039 non-null   object \n",
      " 10  file_name        6039 non-null   object \n",
      "dtypes: float64(1), int64(1), object(9)\n",
      "memory usage: 519.1+ KB\n"
     ]
    }
   ],
   "source": [
    "data_pneumonia.info()"
   ]
  },
  {
   "cell_type": "code",
   "execution_count": 534,
   "metadata": {},
   "outputs": [
    {
     "data": {
      "text/html": [
       "<div>\n",
       "<style scoped>\n",
       "    .dataframe tbody tr th:only-of-type {\n",
       "        vertical-align: middle;\n",
       "    }\n",
       "\n",
       "    .dataframe tbody tr th {\n",
       "        vertical-align: top;\n",
       "    }\n",
       "\n",
       "    .dataframe thead th {\n",
       "        text-align: right;\n",
       "    }\n",
       "</style>\n",
       "<table border=\"1\" class=\"dataframe\">\n",
       "  <thead>\n",
       "    <tr style=\"text-align: right;\">\n",
       "      <th></th>\n",
       "      <th>Frontal_Lateral</th>\n",
       "      <th>AP_PA</th>\n",
       "    </tr>\n",
       "  </thead>\n",
       "  <tbody>\n",
       "    <tr>\n",
       "      <th>AP</th>\n",
       "      <td>NaN</td>\n",
       "      <td>3476.0</td>\n",
       "    </tr>\n",
       "    <tr>\n",
       "      <th>Frontal</th>\n",
       "      <td>4675.0</td>\n",
       "      <td>NaN</td>\n",
       "    </tr>\n",
       "    <tr>\n",
       "      <th>LL</th>\n",
       "      <td>NaN</td>\n",
       "      <td>1.0</td>\n",
       "    </tr>\n",
       "    <tr>\n",
       "      <th>Lateral</th>\n",
       "      <td>1364.0</td>\n",
       "      <td>NaN</td>\n",
       "    </tr>\n",
       "    <tr>\n",
       "      <th>PA</th>\n",
       "      <td>NaN</td>\n",
       "      <td>1198.0</td>\n",
       "    </tr>\n",
       "  </tbody>\n",
       "</table>\n",
       "</div>"
      ],
      "text/plain": [
       "         Frontal_Lateral   AP_PA\n",
       "AP                   NaN  3476.0\n",
       "Frontal           4675.0     NaN\n",
       "LL                   NaN     1.0\n",
       "Lateral           1364.0     NaN\n",
       "PA                   NaN  1198.0"
      ]
     },
     "execution_count": 534,
     "metadata": {},
     "output_type": "execute_result"
    }
   ],
   "source": [
    "data_pneumonia[['Frontal_Lateral', 'AP_PA']].apply(pd.Series.value_counts).iloc[:,:]"
   ]
  },
  {
   "cell_type": "code",
   "execution_count": 535,
   "metadata": {},
   "outputs": [],
   "source": [
    "data_pneumonia_idx=data_pneumonia[data_pneumonia['Frontal_Lateral']=='Lateral'].index\n",
    "data_no_finding_idx=data_no_finding [data_no_finding['Frontal_Lateral']=='Lateral'].index"
   ]
  },
  {
   "cell_type": "code",
   "execution_count": 536,
   "metadata": {},
   "outputs": [],
   "source": [
    "data_pneumonia.drop(data_pneumonia_idx, inplace=True)\n",
    "data_no_finding.drop(data_no_finding_idx, inplace=True)"
   ]
  },
  {
   "cell_type": "code",
   "execution_count": 537,
   "metadata": {},
   "outputs": [
    {
     "data": {
      "text/html": [
       "<div>\n",
       "<style scoped>\n",
       "    .dataframe tbody tr th:only-of-type {\n",
       "        vertical-align: middle;\n",
       "    }\n",
       "\n",
       "    .dataframe tbody tr th {\n",
       "        vertical-align: top;\n",
       "    }\n",
       "\n",
       "    .dataframe thead th {\n",
       "        text-align: right;\n",
       "    }\n",
       "</style>\n",
       "<table border=\"1\" class=\"dataframe\">\n",
       "  <thead>\n",
       "    <tr style=\"text-align: right;\">\n",
       "      <th></th>\n",
       "      <th>Path</th>\n",
       "      <th>Sex</th>\n",
       "      <th>Age</th>\n",
       "      <th>Frontal_Lateral</th>\n",
       "      <th>AP_PA</th>\n",
       "      <th>Class</th>\n",
       "      <th>set_name</th>\n",
       "      <th>set_type</th>\n",
       "      <th>patient_id</th>\n",
       "      <th>study_no</th>\n",
       "      <th>file_name</th>\n",
       "    </tr>\n",
       "  </thead>\n",
       "  <tbody>\n",
       "    <tr>\n",
       "      <th>0</th>\n",
       "      <td>CheXpert-v1.0-small/train/patient00085/study1/view1_frontal.jpg</td>\n",
       "      <td>Male</td>\n",
       "      <td>88</td>\n",
       "      <td>Frontal</td>\n",
       "      <td>AP</td>\n",
       "      <td>1.0</td>\n",
       "      <td>CheXpert-v1.0-small</td>\n",
       "      <td>train</td>\n",
       "      <td>patient00085</td>\n",
       "      <td>study1</td>\n",
       "      <td>view1_frontal.jpg</td>\n",
       "    </tr>\n",
       "    <tr>\n",
       "      <th>1</th>\n",
       "      <td>CheXpert-v1.0-small/train/patient00086/study1/view1_frontal.jpg</td>\n",
       "      <td>Female</td>\n",
       "      <td>77</td>\n",
       "      <td>Frontal</td>\n",
       "      <td>AP</td>\n",
       "      <td>1.0</td>\n",
       "      <td>CheXpert-v1.0-small</td>\n",
       "      <td>train</td>\n",
       "      <td>patient00086</td>\n",
       "      <td>study1</td>\n",
       "      <td>view1_frontal.jpg</td>\n",
       "    </tr>\n",
       "    <tr>\n",
       "      <th>2</th>\n",
       "      <td>CheXpert-v1.0-small/train/patient00112/study1/view1_frontal.jpg</td>\n",
       "      <td>Male</td>\n",
       "      <td>35</td>\n",
       "      <td>Frontal</td>\n",
       "      <td>PA</td>\n",
       "      <td>1.0</td>\n",
       "      <td>CheXpert-v1.0-small</td>\n",
       "      <td>train</td>\n",
       "      <td>patient00112</td>\n",
       "      <td>study1</td>\n",
       "      <td>view1_frontal.jpg</td>\n",
       "    </tr>\n",
       "    <tr>\n",
       "      <th>4</th>\n",
       "      <td>CheXpert-v1.0-small/train/patient00114/study15/view1_frontal.jpg</td>\n",
       "      <td>Male</td>\n",
       "      <td>55</td>\n",
       "      <td>Frontal</td>\n",
       "      <td>AP</td>\n",
       "      <td>1.0</td>\n",
       "      <td>CheXpert-v1.0-small</td>\n",
       "      <td>train</td>\n",
       "      <td>patient00114</td>\n",
       "      <td>study15</td>\n",
       "      <td>view1_frontal.jpg</td>\n",
       "    </tr>\n",
       "    <tr>\n",
       "      <th>5</th>\n",
       "      <td>CheXpert-v1.0-small/train/patient00122/study5/view1_frontal.jpg</td>\n",
       "      <td>Female</td>\n",
       "      <td>72</td>\n",
       "      <td>Frontal</td>\n",
       "      <td>AP</td>\n",
       "      <td>1.0</td>\n",
       "      <td>CheXpert-v1.0-small</td>\n",
       "      <td>train</td>\n",
       "      <td>patient00122</td>\n",
       "      <td>study5</td>\n",
       "      <td>view1_frontal.jpg</td>\n",
       "    </tr>\n",
       "  </tbody>\n",
       "</table>\n",
       "</div>"
      ],
      "text/plain": [
       "                                                               Path     Sex  \\\n",
       "0   CheXpert-v1.0-small/train/patient00085/study1/view1_frontal.jpg    Male   \n",
       "1   CheXpert-v1.0-small/train/patient00086/study1/view1_frontal.jpg  Female   \n",
       "2   CheXpert-v1.0-small/train/patient00112/study1/view1_frontal.jpg    Male   \n",
       "4  CheXpert-v1.0-small/train/patient00114/study15/view1_frontal.jpg    Male   \n",
       "5   CheXpert-v1.0-small/train/patient00122/study5/view1_frontal.jpg  Female   \n",
       "\n",
       "   Age Frontal_Lateral AP_PA  Class             set_name set_type  \\\n",
       "0   88         Frontal    AP    1.0  CheXpert-v1.0-small    train   \n",
       "1   77         Frontal    AP    1.0  CheXpert-v1.0-small    train   \n",
       "2   35         Frontal    PA    1.0  CheXpert-v1.0-small    train   \n",
       "4   55         Frontal    AP    1.0  CheXpert-v1.0-small    train   \n",
       "5   72         Frontal    AP    1.0  CheXpert-v1.0-small    train   \n",
       "\n",
       "     patient_id study_no          file_name  \n",
       "0  patient00085   study1  view1_frontal.jpg  \n",
       "1  patient00086   study1  view1_frontal.jpg  \n",
       "2  patient00112   study1  view1_frontal.jpg  \n",
       "4  patient00114  study15  view1_frontal.jpg  \n",
       "5  patient00122   study5  view1_frontal.jpg  "
      ]
     },
     "execution_count": 537,
     "metadata": {},
     "output_type": "execute_result"
    }
   ],
   "source": [
    "data_pneumonia.head()"
   ]
  },
  {
   "cell_type": "code",
   "execution_count": 538,
   "metadata": {},
   "outputs": [],
   "source": [
    "data_no_finding.reset_index(drop=True, inplace=True)\n",
    "data_pneumonia.reset_index(drop=True, inplace=True)"
   ]
  },
  {
   "cell_type": "code",
   "execution_count": 539,
   "metadata": {},
   "outputs": [],
   "source": [
    "data_no_finding_idx = data_no_finding[data_no_finding['AP_PA']==\"PA\"].index\n",
    "data_pneumonia_idx = data_pneumonia[data_pneumonia['AP_PA']==\"PA\"].index"
   ]
  },
  {
   "cell_type": "code",
   "execution_count": 540,
   "metadata": {},
   "outputs": [],
   "source": [
    "data_no_finding.drop(data_no_finding_idx , inplace=True)\n",
    "data_pneumonia.drop(data_pneumonia_idx, inplace=True)"
   ]
  },
  {
   "cell_type": "code",
   "execution_count": 541,
   "metadata": {},
   "outputs": [],
   "source": [
    "data_no_finding.drop(['AP_PA', 'set_name'], axis=1, inplace=True)\n",
    "data_pneumonia.drop(['AP_PA', 'set_name'], axis=1, inplace=True)"
   ]
  },
  {
   "cell_type": "code",
   "execution_count": 542,
   "metadata": {},
   "outputs": [],
   "source": [
    "data_no_finding.dropna(inplace=True)\n",
    "data_pneumonia.dropna(inplace=True)"
   ]
  },
  {
   "cell_type": "code",
   "execution_count": 543,
   "metadata": {},
   "outputs": [],
   "source": [
    "data_no_finding.reset_index(drop=True, inplace=True)\n",
    "data_pneumonia.reset_index(drop=True, inplace=True)"
   ]
  },
  {
   "cell_type": "code",
   "execution_count": 544,
   "metadata": {},
   "outputs": [
    {
     "name": "stdout",
     "output_type": "stream",
     "text": [
      "<class 'pandas.core.frame.DataFrame'>\n",
      "RangeIndex: 3477 entries, 0 to 3476\n",
      "Data columns (total 9 columns):\n",
      " #   Column           Non-Null Count  Dtype  \n",
      "---  ------           --------------  -----  \n",
      " 0   Path             3477 non-null   object \n",
      " 1   Sex              3477 non-null   object \n",
      " 2   Age              3477 non-null   int64  \n",
      " 3   Frontal_Lateral  3477 non-null   object \n",
      " 4   Class            3477 non-null   float64\n",
      " 5   set_type         3477 non-null   object \n",
      " 6   patient_id       3477 non-null   object \n",
      " 7   study_no         3477 non-null   object \n",
      " 8   file_name        3477 non-null   object \n",
      "dtypes: float64(1), int64(1), object(7)\n",
      "memory usage: 244.6+ KB\n",
      "<class 'pandas.core.frame.DataFrame'>\n",
      "RangeIndex: 11475 entries, 0 to 11474\n",
      "Data columns (total 9 columns):\n",
      " #   Column           Non-Null Count  Dtype \n",
      "---  ------           --------------  ----- \n",
      " 0   Path             11475 non-null  object\n",
      " 1   Sex              11475 non-null  object\n",
      " 2   Age              11475 non-null  int64 \n",
      " 3   Frontal_Lateral  11475 non-null  object\n",
      " 4   Class            11475 non-null  int64 \n",
      " 5   set_type         11475 non-null  object\n",
      " 6   patient_id       11475 non-null  object\n",
      " 7   study_no         11475 non-null  object\n",
      " 8   file_name        11475 non-null  object\n",
      "dtypes: int64(2), object(7)\n",
      "memory usage: 807.0+ KB\n"
     ]
    }
   ],
   "source": [
    "data_pneumonia.info()\n",
    "data_no_finding.info()"
   ]
  },
  {
   "cell_type": "code",
   "execution_count": 545,
   "metadata": {},
   "outputs": [
    {
     "data": {
      "text/plain": [
       "<matplotlib.axes._subplots.AxesSubplot at 0x7f7f7b0fdc50>"
      ]
     },
     "execution_count": 545,
     "metadata": {},
     "output_type": "execute_result"
    },
    {
     "data": {
      "image/png": "[encoded data removed]",
      "text/plain": [
       "<Figure size 432x288 with 1 Axes>"
      ]
     },
     "metadata": {
      "needs_background": "light"
     },
     "output_type": "display_data"
    }
   ],
   "source": [
    "data_pneumonia.Sex.hist()"
   ]
  },
  {
   "cell_type": "code",
   "execution_count": 546,
   "metadata": {
    "scrolled": true
   },
   "outputs": [
    {
     "data": {
      "text/plain": [
       "<matplotlib.axes._subplots.AxesSubplot at 0x7f7f7b082b50>"
      ]
     },
     "execution_count": 546,
     "metadata": {},
     "output_type": "execute_result"
    },
    {
     "data": {
      "image/png": "[encoded data removed]",
      "text/plain": [
       "<Figure size 432x288 with 1 Axes>"
      ]
     },
     "metadata": {
      "needs_background": "light"
     },
     "output_type": "display_data"
    }
   ],
   "source": [
    "data_no_finding.Sex.hist()"
   ]
  },
  {
   "cell_type": "markdown",
   "metadata": {},
   "source": [
    "**Class counts in Pneumonia dataset**"
   ]
  },
  {
   "cell_type": "code",
   "execution_count": 547,
   "metadata": {},
   "outputs": [],
   "source": [
    "data_pneumonia.drop(['Sex'], axis=1, inplace=True)\n",
    "data_no_finding.drop(['Sex'], axis=1, inplace=True)"
   ]
  },
  {
   "cell_type": "code",
   "execution_count": 548,
   "metadata": {},
   "outputs": [
    {
     "data": {
      "text/html": [
       "<div>\n",
       "<style scoped>\n",
       "    .dataframe tbody tr th:only-of-type {\n",
       "        vertical-align: middle;\n",
       "    }\n",
       "\n",
       "    .dataframe tbody tr th {\n",
       "        vertical-align: top;\n",
       "    }\n",
       "\n",
       "    .dataframe thead th {\n",
       "        text-align: right;\n",
       "    }\n",
       "</style>\n",
       "<table border=\"1\" class=\"dataframe\">\n",
       "  <thead>\n",
       "    <tr style=\"text-align: right;\">\n",
       "      <th></th>\n",
       "      <th>Path</th>\n",
       "      <th>Age</th>\n",
       "      <th>Frontal_Lateral</th>\n",
       "      <th>Class</th>\n",
       "      <th>set_type</th>\n",
       "      <th>patient_id</th>\n",
       "      <th>study_no</th>\n",
       "      <th>file_name</th>\n",
       "    </tr>\n",
       "  </thead>\n",
       "  <tbody>\n",
       "    <tr>\n",
       "      <th>0</th>\n",
       "      <td>CheXpert-v1.0-small/train/patient00085/study1/view1_frontal.jpg</td>\n",
       "      <td>88</td>\n",
       "      <td>Frontal</td>\n",
       "      <td>1.0</td>\n",
       "      <td>train</td>\n",
       "      <td>patient00085</td>\n",
       "      <td>study1</td>\n",
       "      <td>view1_frontal.jpg</td>\n",
       "    </tr>\n",
       "    <tr>\n",
       "      <th>1</th>\n",
       "      <td>CheXpert-v1.0-small/train/patient00086/study1/view1_frontal.jpg</td>\n",
       "      <td>77</td>\n",
       "      <td>Frontal</td>\n",
       "      <td>1.0</td>\n",
       "      <td>train</td>\n",
       "      <td>patient00086</td>\n",
       "      <td>study1</td>\n",
       "      <td>view1_frontal.jpg</td>\n",
       "    </tr>\n",
       "    <tr>\n",
       "      <th>2</th>\n",
       "      <td>CheXpert-v1.0-small/train/patient00114/study15/view1_frontal.jpg</td>\n",
       "      <td>55</td>\n",
       "      <td>Frontal</td>\n",
       "      <td>1.0</td>\n",
       "      <td>train</td>\n",
       "      <td>patient00114</td>\n",
       "      <td>study15</td>\n",
       "      <td>view1_frontal.jpg</td>\n",
       "    </tr>\n",
       "    <tr>\n",
       "      <th>3</th>\n",
       "      <td>CheXpert-v1.0-small/train/patient00122/study5/view1_frontal.jpg</td>\n",
       "      <td>72</td>\n",
       "      <td>Frontal</td>\n",
       "      <td>1.0</td>\n",
       "      <td>train</td>\n",
       "      <td>patient00122</td>\n",
       "      <td>study5</td>\n",
       "      <td>view1_frontal.jpg</td>\n",
       "    </tr>\n",
       "    <tr>\n",
       "      <th>4</th>\n",
       "      <td>CheXpert-v1.0-small/train/patient00155/study6/view1_frontal.jpg</td>\n",
       "      <td>70</td>\n",
       "      <td>Frontal</td>\n",
       "      <td>1.0</td>\n",
       "      <td>train</td>\n",
       "      <td>patient00155</td>\n",
       "      <td>study6</td>\n",
       "      <td>view1_frontal.jpg</td>\n",
       "    </tr>\n",
       "  </tbody>\n",
       "</table>\n",
       "</div>"
      ],
      "text/plain": [
       "                                                               Path  Age  \\\n",
       "0   CheXpert-v1.0-small/train/patient00085/study1/view1_frontal.jpg   88   \n",
       "1   CheXpert-v1.0-small/train/patient00086/study1/view1_frontal.jpg   77   \n",
       "2  CheXpert-v1.0-small/train/patient00114/study15/view1_frontal.jpg   55   \n",
       "3   CheXpert-v1.0-small/train/patient00122/study5/view1_frontal.jpg   72   \n",
       "4   CheXpert-v1.0-small/train/patient00155/study6/view1_frontal.jpg   70   \n",
       "\n",
       "  Frontal_Lateral  Class set_type    patient_id study_no          file_name  \n",
       "0         Frontal    1.0    train  patient00085   study1  view1_frontal.jpg  \n",
       "1         Frontal    1.0    train  patient00086   study1  view1_frontal.jpg  \n",
       "2         Frontal    1.0    train  patient00114  study15  view1_frontal.jpg  \n",
       "3         Frontal    1.0    train  patient00122   study5  view1_frontal.jpg  \n",
       "4         Frontal    1.0    train  patient00155   study6  view1_frontal.jpg  "
      ]
     },
     "execution_count": 548,
     "metadata": {},
     "output_type": "execute_result"
    }
   ],
   "source": [
    "data_pneumonia.head()"
   ]
  },
  {
   "cell_type": "code",
   "execution_count": 549,
   "metadata": {},
   "outputs": [
    {
     "data": {
      "text/html": [
       "<div>\n",
       "<style scoped>\n",
       "    .dataframe tbody tr th:only-of-type {\n",
       "        vertical-align: middle;\n",
       "    }\n",
       "\n",
       "    .dataframe tbody tr th {\n",
       "        vertical-align: top;\n",
       "    }\n",
       "\n",
       "    .dataframe thead th {\n",
       "        text-align: right;\n",
       "    }\n",
       "</style>\n",
       "<table border=\"1\" class=\"dataframe\">\n",
       "  <thead>\n",
       "    <tr style=\"text-align: right;\">\n",
       "      <th></th>\n",
       "      <th>Path</th>\n",
       "      <th>Age</th>\n",
       "      <th>Frontal_Lateral</th>\n",
       "      <th>Class</th>\n",
       "      <th>set_type</th>\n",
       "      <th>patient_id</th>\n",
       "      <th>study_no</th>\n",
       "      <th>file_name</th>\n",
       "    </tr>\n",
       "  </thead>\n",
       "  <tbody>\n",
       "    <tr>\n",
       "      <th>0</th>\n",
       "      <td>CheXpert-v1.0-small/train/patient00001/study1/view1_frontal.jpg</td>\n",
       "      <td>68</td>\n",
       "      <td>Frontal</td>\n",
       "      <td>0</td>\n",
       "      <td>train</td>\n",
       "      <td>patient00001</td>\n",
       "      <td>study1</td>\n",
       "      <td>view1_frontal.jpg</td>\n",
       "    </tr>\n",
       "    <tr>\n",
       "      <th>1</th>\n",
       "      <td>CheXpert-v1.0-small/train/patient00006/study1/view1_frontal.jpg</td>\n",
       "      <td>42</td>\n",
       "      <td>Frontal</td>\n",
       "      <td>0</td>\n",
       "      <td>train</td>\n",
       "      <td>patient00006</td>\n",
       "      <td>study1</td>\n",
       "      <td>view1_frontal.jpg</td>\n",
       "    </tr>\n",
       "    <tr>\n",
       "      <th>2</th>\n",
       "      <td>CheXpert-v1.0-small/train/patient00017/study1/view1_frontal.jpg</td>\n",
       "      <td>56</td>\n",
       "      <td>Frontal</td>\n",
       "      <td>0</td>\n",
       "      <td>train</td>\n",
       "      <td>patient00017</td>\n",
       "      <td>study1</td>\n",
       "      <td>view1_frontal.jpg</td>\n",
       "    </tr>\n",
       "    <tr>\n",
       "      <th>3</th>\n",
       "      <td>CheXpert-v1.0-small/train/patient00030/study1/view1_frontal.jpg</td>\n",
       "      <td>74</td>\n",
       "      <td>Frontal</td>\n",
       "      <td>0</td>\n",
       "      <td>train</td>\n",
       "      <td>patient00030</td>\n",
       "      <td>study1</td>\n",
       "      <td>view1_frontal.jpg</td>\n",
       "    </tr>\n",
       "    <tr>\n",
       "      <th>4</th>\n",
       "      <td>CheXpert-v1.0-small/train/patient00049/study1/view1_frontal.jpg</td>\n",
       "      <td>63</td>\n",
       "      <td>Frontal</td>\n",
       "      <td>0</td>\n",
       "      <td>train</td>\n",
       "      <td>patient00049</td>\n",
       "      <td>study1</td>\n",
       "      <td>view1_frontal.jpg</td>\n",
       "    </tr>\n",
       "  </tbody>\n",
       "</table>\n",
       "</div>"
      ],
      "text/plain": [
       "                                                              Path  Age  \\\n",
       "0  CheXpert-v1.0-small/train/patient00001/study1/view1_frontal.jpg   68   \n",
       "1  CheXpert-v1.0-small/train/patient00006/study1/view1_frontal.jpg   42   \n",
       "2  CheXpert-v1.0-small/train/patient00017/study1/view1_frontal.jpg   56   \n",
       "3  CheXpert-v1.0-small/train/patient00030/study1/view1_frontal.jpg   74   \n",
       "4  CheXpert-v1.0-small/train/patient00049/study1/view1_frontal.jpg   63   \n",
       "\n",
       "  Frontal_Lateral  Class set_type    patient_id study_no          file_name  \n",
       "0         Frontal      0    train  patient00001   study1  view1_frontal.jpg  \n",
       "1         Frontal      0    train  patient00006   study1  view1_frontal.jpg  \n",
       "2         Frontal      0    train  patient00017   study1  view1_frontal.jpg  \n",
       "3         Frontal      0    train  patient00030   study1  view1_frontal.jpg  \n",
       "4         Frontal      0    train  patient00049   study1  view1_frontal.jpg  "
      ]
     },
     "execution_count": 549,
     "metadata": {},
     "output_type": "execute_result"
    }
   ],
   "source": [
    "data_no_finding.head()"
   ]
  },
  {
   "cell_type": "markdown",
   "metadata": {},
   "source": [
    "__For Training Data Split dataset into two frames for each label class__"
   ]
  },
  {
   "cell_type": "code",
   "execution_count": 550,
   "metadata": {},
   "outputs": [],
   "source": [
    "def copy_n_images(dataframe, new_path, set_name, n_start, no_rec):\n",
    "    #This function will extract a set of images from the entire CheXpert downloaded set\n",
    "    #Then will copy images and create directory structures from main set in datafram\n",
    "    #dataframe: chexpert meta data dataframe (e.g. train.csv dataframe)\n",
    "    #new_path: directory structure where to move images to. (e.g. 'data')\n",
    "    #set_name: type of batch (train, valid, test) \n",
    "    #n_start: index starting value in dataframe\n",
    "    #no_rec: inumber of images to copy in this batch\n",
    "    \n",
    "    from shutil import copyfile\n",
    "    from sys import exit\n",
    "    print(\"\\nSet Name: \" + set_name + \"\\n Start Index: \" + str(n_start) + \"\\n No of Records: \" + str(no_rec))\n",
    "    n=no_rec\n",
    "\n",
    "    if not os.path.exists(working_path + '/' + new_path): \n",
    "        os.mkdir(working_path + '/' + new_path)\n",
    "        \n",
    "    if not os.path.exists(working_path + '/' + new_path + '/' + set_name): \n",
    "        os.mkdir(working_path + '/' + new_path+  '/' + set_name)\n",
    "        \n",
    "    for i in range(n_start, n_start + no_rec ,1):\n",
    "\n",
    "        source = \"/home/sphinx/Documents/capstone/data/CheXpert/\" + dataframe.Path.iloc[i]\n",
    "        path = working_path + '/' + new_path+ '/' + set_name +'/' + dataframe.patient_id.iloc[i] + '/'\n",
    "\n",
    "        if not os.path.exists(path): \n",
    "            os.mkdir(path)\n",
    "\n",
    "        path = path + dataframe.study_no.iloc[i]+'/'\n",
    "\n",
    "        if not os.path.exists(path): \n",
    "            os.mkdir(path)\n",
    "\n",
    "        target = path+dataframe.file_name.iloc[i]\n",
    "\n",
    "        # adding exception handling\n",
    "        try:\n",
    "            copyfile(source, target)\n",
    "        except IOError as e:\n",
    "            print(\"Unable to copy file. %s\" % e)\n",
    "            exit(1)\n",
    "        except:\n",
    "            print(\"Unexpected error:\", sys.exc_info())\n",
    "            exit(1)\n"
   ]
  },
  {
   "cell_type": "code",
   "execution_count": 551,
   "metadata": {},
   "outputs": [
    {
     "data": {
      "text/plain": [
       "((11475, 8), (3477, 8))"
      ]
     },
     "execution_count": 551,
     "metadata": {},
     "output_type": "execute_result"
    }
   ],
   "source": [
    "data_no_finding.shape, data_pneumonia.shape"
   ]
  },
  {
   "cell_type": "markdown",
   "metadata": {},
   "source": [
    "**Create three batchs with specified image counts with equal number of classifications \n",
    "and create new dataframe with new path information**"
   ]
  },
  {
   "cell_type": "code",
   "execution_count": 552,
   "metadata": {},
   "outputs": [
    {
     "name": "stdout",
     "output_type": "stream",
     "text": [
      "\n",
      "Set Name: test\n",
      " Start Index: 0\n",
      " No of Records: 160\n",
      "\n",
      "Set Name: test\n",
      " Start Index: 0\n",
      " No of Records: 160\n",
      "\n",
      "Set Name: train\n",
      " Start Index: 160\n",
      " No of Records: 3317\n",
      "\n",
      "Set Name: train\n",
      " Start Index: 160\n",
      " No of Records: 3317\n"
     ]
    }
   ],
   "source": [
    "test_set_count = 160\n",
    "\n",
    "set_type_count_pos = [test_set_count, data_pneumonia.shape[0]-test_set_count]\n",
    "set_type_count_neg = [test_set_count, data_pneumonia.shape[0]-test_set_count]\n",
    "\n",
    "#set_type_count = [test_set_count]\n",
    "\n",
    "set_type = ['test', 'train']\n",
    "start = 0\n",
    "dataset= pd.DataFrame()\n",
    "for k, v in enumerate(set_type):\n",
    "    temp_df = pd.DataFrame()\n",
    "    copy_n_images(data_pneumonia, 'data', v, start, set_type_count_pos[k])\n",
    "    copy_n_images(data_no_finding, 'data', v, start, set_type_count_neg[k])\n",
    "    temp_df=temp_df.append(data_pneumonia.iloc[start:start+set_type_count_pos[k]],ignore_index=True)\n",
    "    temp_df=temp_df.append(data_no_finding.iloc[start:start+set_type_count_neg[k]],ignore_index=True) \n",
    "    temp_df['set_type'] = v\n",
    "    temp_df.Path = temp_df.apply(lambda x: 'data/' + v + '/' + str(x[5])+ '/' + str(x[6])+ '/' + str(x[7]), axis=1) \n",
    "    dataset = dataset.append(temp_df)\n",
    "    start += test_set_count\n",
    "\n"
   ]
  },
  {
   "cell_type": "code",
   "execution_count": 553,
   "metadata": {},
   "outputs": [],
   "source": [
    "dataset.reset_index(drop=True, inplace=True)"
   ]
  },
  {
   "cell_type": "code",
   "execution_count": 554,
   "metadata": {},
   "outputs": [
    {
     "data": {
      "text/plain": [
       "0.0    3477\n",
       "1.0    3477\n",
       "Name: Class, dtype: int64"
      ]
     },
     "execution_count": 554,
     "metadata": {},
     "output_type": "execute_result"
    }
   ],
   "source": [
    "dataset['Class'].value_counts()"
   ]
  },
  {
   "cell_type": "code",
   "execution_count": 555,
   "metadata": {},
   "outputs": [
    {
     "name": "stdout",
     "output_type": "stream",
     "text": [
      "<class 'pandas.core.frame.DataFrame'>\n",
      "RangeIndex: 6954 entries, 0 to 6953\n",
      "Data columns (total 8 columns):\n",
      " #   Column           Non-Null Count  Dtype  \n",
      "---  ------           --------------  -----  \n",
      " 0   Path             6954 non-null   object \n",
      " 1   Age              6954 non-null   int64  \n",
      " 2   Frontal_Lateral  6954 non-null   object \n",
      " 3   Class            6954 non-null   float64\n",
      " 4   set_type         6954 non-null   object \n",
      " 5   patient_id       6954 non-null   object \n",
      " 6   study_no         6954 non-null   object \n",
      " 7   file_name        6954 non-null   object \n",
      "dtypes: float64(1), int64(1), object(6)\n",
      "memory usage: 434.8+ KB\n"
     ]
    }
   ],
   "source": [
    "dataset.info()"
   ]
  },
  {
   "cell_type": "code",
   "execution_count": 556,
   "metadata": {},
   "outputs": [
    {
     "data": {
      "text/html": [
       "<div>\n",
       "<style scoped>\n",
       "    .dataframe tbody tr th:only-of-type {\n",
       "        vertical-align: middle;\n",
       "    }\n",
       "\n",
       "    .dataframe tbody tr th {\n",
       "        vertical-align: top;\n",
       "    }\n",
       "\n",
       "    .dataframe thead th {\n",
       "        text-align: right;\n",
       "    }\n",
       "</style>\n",
       "<table border=\"1\" class=\"dataframe\">\n",
       "  <thead>\n",
       "    <tr style=\"text-align: right;\">\n",
       "      <th></th>\n",
       "      <th>Path</th>\n",
       "      <th>Age</th>\n",
       "      <th>Frontal_Lateral</th>\n",
       "      <th>Class</th>\n",
       "      <th>set_type</th>\n",
       "      <th>patient_id</th>\n",
       "      <th>study_no</th>\n",
       "      <th>file_name</th>\n",
       "    </tr>\n",
       "  </thead>\n",
       "  <tbody>\n",
       "    <tr>\n",
       "      <th>0</th>\n",
       "      <td>data/test/patient00085/study1/view1_frontal.jpg</td>\n",
       "      <td>88</td>\n",
       "      <td>Frontal</td>\n",
       "      <td>1.0</td>\n",
       "      <td>test</td>\n",
       "      <td>patient00085</td>\n",
       "      <td>study1</td>\n",
       "      <td>view1_frontal.jpg</td>\n",
       "    </tr>\n",
       "    <tr>\n",
       "      <th>1</th>\n",
       "      <td>data/test/patient00086/study1/view1_frontal.jpg</td>\n",
       "      <td>77</td>\n",
       "      <td>Frontal</td>\n",
       "      <td>1.0</td>\n",
       "      <td>test</td>\n",
       "      <td>patient00086</td>\n",
       "      <td>study1</td>\n",
       "      <td>view1_frontal.jpg</td>\n",
       "    </tr>\n",
       "    <tr>\n",
       "      <th>2</th>\n",
       "      <td>data/test/patient00114/study15/view1_frontal.jpg</td>\n",
       "      <td>55</td>\n",
       "      <td>Frontal</td>\n",
       "      <td>1.0</td>\n",
       "      <td>test</td>\n",
       "      <td>patient00114</td>\n",
       "      <td>study15</td>\n",
       "      <td>view1_frontal.jpg</td>\n",
       "    </tr>\n",
       "    <tr>\n",
       "      <th>3</th>\n",
       "      <td>data/test/patient00122/study5/view1_frontal.jpg</td>\n",
       "      <td>72</td>\n",
       "      <td>Frontal</td>\n",
       "      <td>1.0</td>\n",
       "      <td>test</td>\n",
       "      <td>patient00122</td>\n",
       "      <td>study5</td>\n",
       "      <td>view1_frontal.jpg</td>\n",
       "    </tr>\n",
       "    <tr>\n",
       "      <th>4</th>\n",
       "      <td>data/test/patient00155/study6/view1_frontal.jpg</td>\n",
       "      <td>70</td>\n",
       "      <td>Frontal</td>\n",
       "      <td>1.0</td>\n",
       "      <td>test</td>\n",
       "      <td>patient00155</td>\n",
       "      <td>study6</td>\n",
       "      <td>view1_frontal.jpg</td>\n",
       "    </tr>\n",
       "  </tbody>\n",
       "</table>\n",
       "</div>"
      ],
      "text/plain": [
       "                                               Path  Age Frontal_Lateral  \\\n",
       "0   data/test/patient00085/study1/view1_frontal.jpg   88         Frontal   \n",
       "1   data/test/patient00086/study1/view1_frontal.jpg   77         Frontal   \n",
       "2  data/test/patient00114/study15/view1_frontal.jpg   55         Frontal   \n",
       "3   data/test/patient00122/study5/view1_frontal.jpg   72         Frontal   \n",
       "4   data/test/patient00155/study6/view1_frontal.jpg   70         Frontal   \n",
       "\n",
       "   Class set_type    patient_id study_no          file_name  \n",
       "0    1.0     test  patient00085   study1  view1_frontal.jpg  \n",
       "1    1.0     test  patient00086   study1  view1_frontal.jpg  \n",
       "2    1.0     test  patient00114  study15  view1_frontal.jpg  \n",
       "3    1.0     test  patient00122   study5  view1_frontal.jpg  \n",
       "4    1.0     test  patient00155   study6  view1_frontal.jpg  "
      ]
     },
     "execution_count": 556,
     "metadata": {},
     "output_type": "execute_result"
    }
   ],
   "source": [
    "dataset.head(5)"
   ]
  },
  {
   "cell_type": "code",
   "execution_count": 557,
   "metadata": {},
   "outputs": [
    {
     "data": {
      "text/html": [
       "<div>\n",
       "<style scoped>\n",
       "    .dataframe tbody tr th:only-of-type {\n",
       "        vertical-align: middle;\n",
       "    }\n",
       "\n",
       "    .dataframe tbody tr th {\n",
       "        vertical-align: top;\n",
       "    }\n",
       "\n",
       "    .dataframe thead th {\n",
       "        text-align: right;\n",
       "    }\n",
       "</style>\n",
       "<table border=\"1\" class=\"dataframe\">\n",
       "  <thead>\n",
       "    <tr style=\"text-align: right;\">\n",
       "      <th></th>\n",
       "      <th>Path</th>\n",
       "      <th>Age</th>\n",
       "      <th>Frontal_Lateral</th>\n",
       "      <th>Class</th>\n",
       "      <th>set_type</th>\n",
       "      <th>patient_id</th>\n",
       "      <th>study_no</th>\n",
       "      <th>file_name</th>\n",
       "    </tr>\n",
       "  </thead>\n",
       "  <tbody>\n",
       "    <tr>\n",
       "      <th>6949</th>\n",
       "      <td>data/train/patient20704/study1/view1_frontal.jpg</td>\n",
       "      <td>43</td>\n",
       "      <td>Frontal</td>\n",
       "      <td>0.0</td>\n",
       "      <td>train</td>\n",
       "      <td>patient20704</td>\n",
       "      <td>study1</td>\n",
       "      <td>view1_frontal.jpg</td>\n",
       "    </tr>\n",
       "    <tr>\n",
       "      <th>6950</th>\n",
       "      <td>data/train/patient20704/study1/view2_frontal.jpg</td>\n",
       "      <td>43</td>\n",
       "      <td>Frontal</td>\n",
       "      <td>0.0</td>\n",
       "      <td>train</td>\n",
       "      <td>patient20704</td>\n",
       "      <td>study1</td>\n",
       "      <td>view2_frontal.jpg</td>\n",
       "    </tr>\n",
       "    <tr>\n",
       "      <th>6951</th>\n",
       "      <td>data/train/patient20710/study1/view1_frontal.jpg</td>\n",
       "      <td>27</td>\n",
       "      <td>Frontal</td>\n",
       "      <td>0.0</td>\n",
       "      <td>train</td>\n",
       "      <td>patient20710</td>\n",
       "      <td>study1</td>\n",
       "      <td>view1_frontal.jpg</td>\n",
       "    </tr>\n",
       "    <tr>\n",
       "      <th>6952</th>\n",
       "      <td>data/train/patient20728/study1/view1_frontal.jpg</td>\n",
       "      <td>36</td>\n",
       "      <td>Frontal</td>\n",
       "      <td>0.0</td>\n",
       "      <td>train</td>\n",
       "      <td>patient20728</td>\n",
       "      <td>study1</td>\n",
       "      <td>view1_frontal.jpg</td>\n",
       "    </tr>\n",
       "    <tr>\n",
       "      <th>6953</th>\n",
       "      <td>data/train/patient20728/study2/view1_frontal.jpg</td>\n",
       "      <td>36</td>\n",
       "      <td>Frontal</td>\n",
       "      <td>0.0</td>\n",
       "      <td>train</td>\n",
       "      <td>patient20728</td>\n",
       "      <td>study2</td>\n",
       "      <td>view1_frontal.jpg</td>\n",
       "    </tr>\n",
       "  </tbody>\n",
       "</table>\n",
       "</div>"
      ],
      "text/plain": [
       "                                                  Path  Age Frontal_Lateral  \\\n",
       "6949  data/train/patient20704/study1/view1_frontal.jpg   43         Frontal   \n",
       "6950  data/train/patient20704/study1/view2_frontal.jpg   43         Frontal   \n",
       "6951  data/train/patient20710/study1/view1_frontal.jpg   27         Frontal   \n",
       "6952  data/train/patient20728/study1/view1_frontal.jpg   36         Frontal   \n",
       "6953  data/train/patient20728/study2/view1_frontal.jpg   36         Frontal   \n",
       "\n",
       "      Class set_type    patient_id study_no          file_name  \n",
       "6949    0.0    train  patient20704   study1  view1_frontal.jpg  \n",
       "6950    0.0    train  patient20704   study1  view2_frontal.jpg  \n",
       "6951    0.0    train  patient20710   study1  view1_frontal.jpg  \n",
       "6952    0.0    train  patient20728   study1  view1_frontal.jpg  \n",
       "6953    0.0    train  patient20728   study2  view1_frontal.jpg  "
      ]
     },
     "execution_count": 557,
     "metadata": {},
     "output_type": "execute_result"
    }
   ],
   "source": [
    "dataset.tail(5)"
   ]
  },
  {
   "cell_type": "markdown",
   "metadata": {},
   "source": [
    "__After creating all files, export dataframe matching image set__"
   ]
  },
  {
   "cell_type": "code",
   "execution_count": 558,
   "metadata": {},
   "outputs": [
    {
     "data": {
      "image/png": "[encoded data removed]",
      "text/plain": [
       "<Figure size 1440x720 with 8 Axes>"
      ]
     },
     "metadata": {
      "needs_background": "light"
     },
     "output_type": "display_data"
    }
   ],
   "source": [
    "fig, ax = plt.subplots(1, 8, figsize=(20,10))\n",
    "for k, v in enumerate (ax):\n",
    "        v.imshow(cv2.imread(working_path + \"/\" + dataset.Path[k]))\n",
    "        v.set_title(dataset.Class[k])"
   ]
  },
  {
   "cell_type": "code",
   "execution_count": 559,
   "metadata": {},
   "outputs": [],
   "source": [
    "dataset.to_csv(working_path + '/data/pneumonia.csv', index=False)"
   ]
  },
  {
   "cell_type": "code",
   "execution_count": null,
   "metadata": {},
   "outputs": [],
   "source": []
  }
 ],
 "metadata": {
  "kernelspec": {
   "display_name": "Python 3",
   "language": "python",
   "name": "python3"
  },
  "language_info": {
   "codemirror_mode": {
    "name": "ipython",
    "version": 3
   },
   "file_extension": ".py",
   "mimetype": "text/x-python",
   "name": "python",
   "nbconvert_exporter": "python",
   "pygments_lexer": "ipython3",
   "version": "3.7.6"
  }
 },
 "nbformat": 4,
 "nbformat_minor": 4
}
